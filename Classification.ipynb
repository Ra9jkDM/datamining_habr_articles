{
 "cells": [
  {
   "cell_type": "code",
   "execution_count": 101,
   "id": "4b7666c6-9e13-458a-9f81-efca71631f45",
   "metadata": {},
   "outputs": [],
   "source": [
    "import pandas as pd\n",
    "import numpy as np\n",
    "import matplotlib.pyplot as plt\n",
    "from torch.utils.data import TensorDataset, DataLoader\n",
    "from sklearn.model_selection import train_test_split\n",
    "import torch\n",
    "import torch.nn as nn\n",
    "import time\n",
    "from tqdm import tqdm\n",
    "from sklearn import metrics\n",
    "import seaborn as sns\n",
    "from sklearn.preprocessing import OneHotEncoder\n",
    "from torch.utils.data.sampler import WeightedRandomSampler\n",
    "from collections import Counter"
   ]
  },
  {
   "cell_type": "code",
   "execution_count": null,
   "id": "e93ca622-08d5-4818-81be-307d5e82da8f",
   "metadata": {},
   "outputs": [],
   "source": []
  },
  {
   "cell_type": "code",
   "execution_count": null,
   "id": "4500a0f0-f156-4ae9-b6aa-8b73b6c53dc6",
   "metadata": {},
   "outputs": [],
   "source": []
  },
  {
   "cell_type": "code",
   "execution_count": 2,
   "id": "c2870842-a80c-486b-b044-0777daca78ec",
   "metadata": {},
   "outputs": [],
   "source": [
    "df = pd.read_csv('del_freq_words.csv', index_col=0)"
   ]
  },
  {
   "cell_type": "code",
   "execution_count": 3,
   "id": "bfc755a4-85ed-4832-bb17-23f2908ea763",
   "metadata": {},
   "outputs": [
    {
     "name": "stdout",
     "output_type": "stream",
     "text": [
      "<class 'pandas.core.frame.DataFrame'>\n",
      "Index: 4337 entries, 0 to 4336\n",
      "Data columns (total 12 columns):\n",
      " #   Column           Non-Null Count  Dtype \n",
      "---  ------           --------------  ----- \n",
      " 0   url              4337 non-null   object\n",
      " 1   title            4337 non-null   object\n",
      " 2   theme            4337 non-null   object\n",
      " 3   tags             4337 non-null   object\n",
      " 4   read_time        4337 non-null   int64 \n",
      " 5   number_of_views  4337 non-null   int64 \n",
      " 6   date             4337 non-null   object\n",
      " 7   amount_of_imgs   4337 non-null   int64 \n",
      " 8   comments         4337 non-null   int64 \n",
      " 9   bookmark         4337 non-null   int64 \n",
      " 10  votes            4337 non-null   int64 \n",
      " 11  text             4337 non-null   object\n",
      "dtypes: int64(6), object(6)\n",
      "memory usage: 440.5+ KB\n"
     ]
    }
   ],
   "source": [
    "df.info()"
   ]
  },
  {
   "cell_type": "code",
   "execution_count": 4,
   "id": "08b80345-7a7c-414f-8d6d-8124abbc049d",
   "metadata": {},
   "outputs": [
    {
     "data": {
      "text/html": [
       "<div>\n",
       "<style scoped>\n",
       "    .dataframe tbody tr th:only-of-type {\n",
       "        vertical-align: middle;\n",
       "    }\n",
       "\n",
       "    .dataframe tbody tr th {\n",
       "        vertical-align: top;\n",
       "    }\n",
       "\n",
       "    .dataframe thead th {\n",
       "        text-align: right;\n",
       "    }\n",
       "</style>\n",
       "<table border=\"1\" class=\"dataframe\">\n",
       "  <thead>\n",
       "    <tr style=\"text-align: right;\">\n",
       "      <th></th>\n",
       "      <th>url</th>\n",
       "      <th>title</th>\n",
       "      <th>theme</th>\n",
       "      <th>tags</th>\n",
       "      <th>read_time</th>\n",
       "      <th>number_of_views</th>\n",
       "      <th>date</th>\n",
       "      <th>amount_of_imgs</th>\n",
       "      <th>comments</th>\n",
       "      <th>bookmark</th>\n",
       "      <th>votes</th>\n",
       "      <th>text</th>\n",
       "    </tr>\n",
       "  </thead>\n",
       "  <tbody>\n",
       "    <tr>\n",
       "      <th>0</th>\n",
       "      <td>https://habr.com/ru/articles/842474/</td>\n",
       "      <td>На Alibaba можно купить станок для изготовлени...</td>\n",
       "      <td>Научно-популярное</td>\n",
       "      <td>['Научно-популярное', 'Физика']</td>\n",
       "      <td>4</td>\n",
       "      <td>2800</td>\n",
       "      <td>2024-09-11 14:58:00</td>\n",
       "      <td>0</td>\n",
       "      <td>4</td>\n",
       "      <td>3</td>\n",
       "      <td>0</td>\n",
       "      <td>производство бриллиант стать дешёвый либо созд...</td>\n",
       "    </tr>\n",
       "    <tr>\n",
       "      <th>1</th>\n",
       "      <td>https://habr.com/ru/articles/842336/</td>\n",
       "      <td>Учёные, искавшие жизнь на Марсе, услышали сигн...</td>\n",
       "      <td>Научно-популярное</td>\n",
       "      <td>['Научно-популярное', 'Астрономия']</td>\n",
       "      <td>8</td>\n",
       "      <td>1600</td>\n",
       "      <td>2024-09-11 13:38:00</td>\n",
       "      <td>0</td>\n",
       "      <td>1</td>\n",
       "      <td>2</td>\n",
       "      <td>0</td>\n",
       "      <td>радиоприёмник создать поле сражение первый мир...</td>\n",
       "    </tr>\n",
       "    <tr>\n",
       "      <th>2</th>\n",
       "      <td>https://habr.com/ru/companies/montirey/article...</td>\n",
       "      <td>Проявление свойств эфира: доказано эксперимент...</td>\n",
       "      <td>Блог компании Мон Тирэй</td>\n",
       "      <td>['Блог компании Мон Тирэй', 'Научно-популярное...</td>\n",
       "      <td>7</td>\n",
       "      <td>3700</td>\n",
       "      <td>2024-09-11 11:24:00</td>\n",
       "      <td>0</td>\n",
       "      <td>44</td>\n",
       "      <td>5</td>\n",
       "      <td>0</td>\n",
       "      <td>исследование российский учёный подтвердить сущ...</td>\n",
       "    </tr>\n",
       "    <tr>\n",
       "      <th>3</th>\n",
       "      <td>https://habr.com/ru/companies/timeweb/articles...</td>\n",
       "      <td>Деннис Макалистэйр Ритчи. Между Unix и С / Хабр</td>\n",
       "      <td>Блог компании Timeweb Cloud</td>\n",
       "      <td>['Блог компании Timeweb Cloud', 'Читальный зал...</td>\n",
       "      <td>18</td>\n",
       "      <td>1300</td>\n",
       "      <td>2024-09-11 11:05:00</td>\n",
       "      <td>0</td>\n",
       "      <td>0</td>\n",
       "      <td>11</td>\n",
       "      <td>0</td>\n",
       "      <td>создатель точнее описывать ритча именно слово ...</td>\n",
       "    </tr>\n",
       "    <tr>\n",
       "      <th>4</th>\n",
       "      <td>https://habr.com/ru/articles/842324/</td>\n",
       "      <td>Болезнь Альцгеймера может оказаться аутоиммунн...</td>\n",
       "      <td>Научно-популярное</td>\n",
       "      <td>['Научно-популярное', 'Мозг', 'Здоровье']</td>\n",
       "      <td>4</td>\n",
       "      <td>840</td>\n",
       "      <td>2024-09-11 10:49:00</td>\n",
       "      <td>0</td>\n",
       "      <td>0</td>\n",
       "      <td>4</td>\n",
       "      <td>0</td>\n",
       "      <td>поиск лекарство болезнь альцгеймер становиться...</td>\n",
       "    </tr>\n",
       "    <tr>\n",
       "      <th>...</th>\n",
       "      <td>...</td>\n",
       "      <td>...</td>\n",
       "      <td>...</td>\n",
       "      <td>...</td>\n",
       "      <td>...</td>\n",
       "      <td>...</td>\n",
       "      <td>...</td>\n",
       "      <td>...</td>\n",
       "      <td>...</td>\n",
       "      <td>...</td>\n",
       "      <td>...</td>\n",
       "      <td>...</td>\n",
       "    </tr>\n",
       "    <tr>\n",
       "      <th>4332</th>\n",
       "      <td>https://habr.com/ru/companies/selectel/article...</td>\n",
       "      <td>От кофеварки до кардиостимуляторов. Боимся IoT...</td>\n",
       "      <td>Блог компании Selectel</td>\n",
       "      <td>['Блог компании Selectel', 'Информационная без...</td>\n",
       "      <td>5</td>\n",
       "      <td>6700</td>\n",
       "      <td>2021-08-11 15:36:00</td>\n",
       "      <td>0</td>\n",
       "      <td>23</td>\n",
       "      <td>20</td>\n",
       "      <td>31</td>\n",
       "      <td>источник интернет вещь резко предмет вокруг пр...</td>\n",
       "    </tr>\n",
       "    <tr>\n",
       "      <th>4333</th>\n",
       "      <td>https://habr.com/ru/companies/ua-hosting/artic...</td>\n",
       "      <td>Ритм на кончиках пальцев: считывание сигналов ...</td>\n",
       "      <td>Блог компании ua-hosting.company</td>\n",
       "      <td>['Блог компании ua-hosting.company', 'Научно-п...</td>\n",
       "      <td>13</td>\n",
       "      <td>2100</td>\n",
       "      <td>2021-08-11 15:21:00</td>\n",
       "      <td>6</td>\n",
       "      <td>0</td>\n",
       "      <td>20</td>\n",
       "      <td>13</td>\n",
       "      <td>воспринимать окружающий мир посредством набор ...</td>\n",
       "    </tr>\n",
       "    <tr>\n",
       "      <th>4334</th>\n",
       "      <td>https://habr.com/ru/articles/572266/</td>\n",
       "      <td>Фомальгаут / Хабр</td>\n",
       "      <td>Научно-популярное</td>\n",
       "      <td>['Научно-популярное', 'Астрономия']</td>\n",
       "      <td>4</td>\n",
       "      <td>17000</td>\n",
       "      <td>2021-08-10 23:56:00</td>\n",
       "      <td>7</td>\n",
       "      <td>20</td>\n",
       "      <td>37</td>\n",
       "      <td>47</td>\n",
       "      <td>альфа южный рыба увидеть фомальгаут москва зна...</td>\n",
       "    </tr>\n",
       "    <tr>\n",
       "      <th>4335</th>\n",
       "      <td>https://habr.com/ru/articles/572046/</td>\n",
       "      <td>Морской чёртик и морской ангел / Хабр</td>\n",
       "      <td>Научно-популярное</td>\n",
       "      <td>['Научно-популярное', 'Биология']</td>\n",
       "      <td>5</td>\n",
       "      <td>9400</td>\n",
       "      <td>2021-08-10 21:52:00</td>\n",
       "      <td>0</td>\n",
       "      <td>7</td>\n",
       "      <td>11</td>\n",
       "      <td>11</td>\n",
       "      <td>внимание получаться тема глубинный обитатель н...</td>\n",
       "    </tr>\n",
       "    <tr>\n",
       "      <th>4336</th>\n",
       "      <td>https://habr.com/ru/companies/ruvds/articles/5...</td>\n",
       "      <td>Ретротехнологии. Нувистор – последнее слово в ...</td>\n",
       "      <td>Блог компании RUVDS.com</td>\n",
       "      <td>['Блог компании RUVDS.com', 'Производство и ра...</td>\n",
       "      <td>3</td>\n",
       "      <td>17000</td>\n",
       "      <td>2021-08-10 20:00:00</td>\n",
       "      <td>0</td>\n",
       "      <td>34</td>\n",
       "      <td>40</td>\n",
       "      <td>40</td>\n",
       "      <td>статья посвятить многий неизвестный тип радиол...</td>\n",
       "    </tr>\n",
       "  </tbody>\n",
       "</table>\n",
       "<p>4337 rows × 12 columns</p>\n",
       "</div>"
      ],
      "text/plain": [
       "                                                    url  \\\n",
       "0                  https://habr.com/ru/articles/842474/   \n",
       "1                  https://habr.com/ru/articles/842336/   \n",
       "2     https://habr.com/ru/companies/montirey/article...   \n",
       "3     https://habr.com/ru/companies/timeweb/articles...   \n",
       "4                  https://habr.com/ru/articles/842324/   \n",
       "...                                                 ...   \n",
       "4332  https://habr.com/ru/companies/selectel/article...   \n",
       "4333  https://habr.com/ru/companies/ua-hosting/artic...   \n",
       "4334               https://habr.com/ru/articles/572266/   \n",
       "4335               https://habr.com/ru/articles/572046/   \n",
       "4336  https://habr.com/ru/companies/ruvds/articles/5...   \n",
       "\n",
       "                                                  title  \\\n",
       "0     На Alibaba можно купить станок для изготовлени...   \n",
       "1     Учёные, искавшие жизнь на Марсе, услышали сигн...   \n",
       "2     Проявление свойств эфира: доказано эксперимент...   \n",
       "3       Деннис Макалистэйр Ритчи. Между Unix и С / Хабр   \n",
       "4     Болезнь Альцгеймера может оказаться аутоиммунн...   \n",
       "...                                                 ...   \n",
       "4332  От кофеварки до кардиостимуляторов. Боимся IoT...   \n",
       "4333  Ритм на кончиках пальцев: считывание сигналов ...   \n",
       "4334                                  Фомальгаут / Хабр   \n",
       "4335              Морской чёртик и морской ангел / Хабр   \n",
       "4336  Ретротехнологии. Нувистор – последнее слово в ...   \n",
       "\n",
       "                                 theme  \\\n",
       "0                    Научно-популярное   \n",
       "1                    Научно-популярное   \n",
       "2              Блог компании Мон Тирэй   \n",
       "3          Блог компании Timeweb Cloud   \n",
       "4                    Научно-популярное   \n",
       "...                                ...   \n",
       "4332            Блог компании Selectel   \n",
       "4333  Блог компании ua-hosting.company   \n",
       "4334                 Научно-популярное   \n",
       "4335                 Научно-популярное   \n",
       "4336           Блог компании RUVDS.com   \n",
       "\n",
       "                                                   tags  read_time  \\\n",
       "0                       ['Научно-популярное', 'Физика']          4   \n",
       "1                   ['Научно-популярное', 'Астрономия']          8   \n",
       "2     ['Блог компании Мон Тирэй', 'Научно-популярное...          7   \n",
       "3     ['Блог компании Timeweb Cloud', 'Читальный зал...         18   \n",
       "4             ['Научно-популярное', 'Мозг', 'Здоровье']          4   \n",
       "...                                                 ...        ...   \n",
       "4332  ['Блог компании Selectel', 'Информационная без...          5   \n",
       "4333  ['Блог компании ua-hosting.company', 'Научно-п...         13   \n",
       "4334                ['Научно-популярное', 'Астрономия']          4   \n",
       "4335                  ['Научно-популярное', 'Биология']          5   \n",
       "4336  ['Блог компании RUVDS.com', 'Производство и ра...          3   \n",
       "\n",
       "      number_of_views                 date  amount_of_imgs  comments  \\\n",
       "0                2800  2024-09-11 14:58:00               0         4   \n",
       "1                1600  2024-09-11 13:38:00               0         1   \n",
       "2                3700  2024-09-11 11:24:00               0        44   \n",
       "3                1300  2024-09-11 11:05:00               0         0   \n",
       "4                 840  2024-09-11 10:49:00               0         0   \n",
       "...               ...                  ...             ...       ...   \n",
       "4332             6700  2021-08-11 15:36:00               0        23   \n",
       "4333             2100  2021-08-11 15:21:00               6         0   \n",
       "4334            17000  2021-08-10 23:56:00               7        20   \n",
       "4335             9400  2021-08-10 21:52:00               0         7   \n",
       "4336            17000  2021-08-10 20:00:00               0        34   \n",
       "\n",
       "      bookmark  votes                                               text  \n",
       "0            3      0  производство бриллиант стать дешёвый либо созд...  \n",
       "1            2      0  радиоприёмник создать поле сражение первый мир...  \n",
       "2            5      0  исследование российский учёный подтвердить сущ...  \n",
       "3           11      0  создатель точнее описывать ритча именно слово ...  \n",
       "4            4      0  поиск лекарство болезнь альцгеймер становиться...  \n",
       "...        ...    ...                                                ...  \n",
       "4332        20     31  источник интернет вещь резко предмет вокруг пр...  \n",
       "4333        20     13  воспринимать окружающий мир посредством набор ...  \n",
       "4334        37     47  альфа южный рыба увидеть фомальгаут москва зна...  \n",
       "4335        11     11  внимание получаться тема глубинный обитатель н...  \n",
       "4336        40     40  статья посвятить многий неизвестный тип радиол...  \n",
       "\n",
       "[4337 rows x 12 columns]"
      ]
     },
     "execution_count": 4,
     "metadata": {},
     "output_type": "execute_result"
    }
   ],
   "source": [
    "df"
   ]
  },
  {
   "cell_type": "code",
   "execution_count": 5,
   "id": "8c48fed7-8bf3-4857-afa7-f0db6569cf97",
   "metadata": {},
   "outputs": [
    {
     "data": {
      "text/plain": [
       "count     4337.000000\n",
       "mean      1206.523403\n",
       "std        859.305958\n",
       "min         13.000000\n",
       "25%        665.000000\n",
       "50%       1023.000000\n",
       "75%       1492.000000\n",
       "max      14234.000000\n",
       "Name: text, dtype: float64"
      ]
     },
     "execution_count": 5,
     "metadata": {},
     "output_type": "execute_result"
    }
   ],
   "source": [
    "df['text'].map(lambda x: len(x.split())).describe()"
   ]
  },
  {
   "cell_type": "code",
   "execution_count": 6,
   "id": "da452654-5a47-45d5-a2ed-ba540cffa86f",
   "metadata": {},
   "outputs": [
    {
     "name": "stdout",
     "output_type": "stream",
     "text": [
      "theme\n",
      "Научно-популярное                   1387\n",
      "Блог компании RUVDS.com              338\n",
      "Блог компании ua-hosting.company     280\n",
      "Блог компании FirstVDS               218\n",
      "Читальный зал                        196\n",
      "Блог компании Timeweb Cloud          194\n",
      "Математика*                          120\n",
      "Блог компании Онлайн Патент          109\n",
      "Блог компании МТС                     91\n",
      "Блог компании Белая Радуга            64\n",
      "Name: url, dtype: int64\n"
     ]
    },
    {
     "data": {
      "text/plain": [
       "Text(0.5, 1.0, 'Top 10 popular topics')"
      ]
     },
     "execution_count": 6,
     "metadata": {},
     "output_type": "execute_result"
    },
    {
     "data": {
      "image/png": "[encoded data removed]",
      "text/plain": [
       "<Figure size 640x480 with 1 Axes>"
      ]
     },
     "metadata": {},
     "output_type": "display_data"
    }
   ],
   "source": [
    "x = df.groupby('theme').count()\n",
    "x = x.sort_values(by='url', ascending = False)[:10]\n",
    "print(x['url'])\n",
    "\n",
    "plt.pie(x['url'], labels=x.index, autopct='%1.1f%%')\n",
    "plt.title('Top 10 popular topics')"
   ]
  },
  {
   "cell_type": "code",
   "execution_count": null,
   "id": "c22b9a38-8ad2-487b-b713-5ce5354801fe",
   "metadata": {},
   "outputs": [],
   "source": []
  },
  {
   "cell_type": "markdown",
   "id": "d219e924-ad84-4ca0-bbba-d0d8fbdf5fac",
   "metadata": {},
   "source": [
    "# Бинарная классификация\n",
    "- определить является ли статься \"Блогом компании XXX\""
   ]
  },
  {
   "cell_type": "code",
   "execution_count": 3,
   "id": "0ee7e06c-0a42-455f-bcd2-80836ad8ae81",
   "metadata": {},
   "outputs": [],
   "source": [
    "df1 = df[['text', 'theme']]"
   ]
  },
  {
   "cell_type": "code",
   "execution_count": 4,
   "id": "1ebe3c8f-8c81-4ca9-a487-cbeceb381148",
   "metadata": {},
   "outputs": [],
   "source": [
    "def create_target(row):\n",
    "    if 'блог компании' in row['theme'].lower():\n",
    "        row['target'] = 1\n",
    "    else:\n",
    "        row['target'] = 0\n",
    "    \n",
    "    return row\n",
    "\n",
    "df2 = df1.apply(create_target, axis=1)"
   ]
  },
  {
   "cell_type": "code",
   "execution_count": 5,
   "id": "8c4114ae-e124-4ab3-b90c-bbc6aa4b0643",
   "metadata": {},
   "outputs": [
    {
     "name": "stdout",
     "output_type": "stream",
     "text": [
      "target\n",
      "0    2329\n",
      "1    2008\n",
      "Name: text, dtype: int64\n"
     ]
    },
    {
     "data": {
      "text/plain": [
       "Text(0.5, 1.0, 'Соотношение статей')"
      ]
     },
     "execution_count": 5,
     "metadata": {},
     "output_type": "execute_result"
    },
    {
     "data": {
      "image/png": "[encoded data removed]",
      "text/plain": [
       "<Figure size 640x480 with 1 Axes>"
      ]
     },
     "metadata": {},
     "output_type": "display_data"
    }
   ],
   "source": [
    "x = df2.groupby(by='target').count()\n",
    "print(x['text'])\n",
    "plt.pie(x['theme'], labels=['От пользователя', 'От компании'],  autopct='%.1f')\n",
    "plt.title('Соотношение статей')"
   ]
  },
  {
   "cell_type": "code",
   "execution_count": 6,
   "id": "9c33e9a9-27b6-49d3-9d2a-be5fd7ffece1",
   "metadata": {},
   "outputs": [
    {
     "data": {
      "text/plain": [
       "(4000, 2000)"
      ]
     },
     "execution_count": 6,
     "metadata": {},
     "output_type": "execute_result"
    }
   ],
   "source": [
    "df2 = pd.concat((df2[df2['target']==0][:2000], df2[df2['target']==1][:2000]))\n",
    "len(df2), len(df2[df2['target']==0])"
   ]
  },
  {
   "cell_type": "code",
   "execution_count": 6,
   "id": "e919e0ad-7a24-4998-ace1-654793a88b0f",
   "metadata": {},
   "outputs": [
    {
     "data": {
      "text/plain": [
       "'исследование российский учёный подтвердить существование эфирный эфир самый интересный научный гипотеза насчитывать тысяча iii век н э философский школа древний индия принять считать эфир лежать основа впоследствии исследователь называть эфир пятый элемент божественный сущность однако начало го век идея эфир решить отказаться невозможность определить свойство научный путём наука стоить место день '"
      ]
     },
     "execution_count": 6,
     "metadata": {},
     "output_type": "execute_result"
    }
   ],
   "source": [
    "df2['text'][2][:400] # текст был обработан в прошлом блокноте"
   ]
  },
  {
   "cell_type": "code",
   "execution_count": 7,
   "id": "c6a0e834-5bcf-4a84-9c78-ea67173e8998",
   "metadata": {},
   "outputs": [
    {
     "name": "stdout",
     "output_type": "stream",
     "text": [
      "Количество токенов: 17916\n"
     ]
    }
   ],
   "source": [
    "unique_words = set(' '.join(df2['text']).split())\n",
    "tokens = {value: key for key, value in enumerate(unique_words, start=1)}\n",
    "print('Количество токенов:', len(tokens))"
   ]
  },
  {
   "cell_type": "code",
   "execution_count": 8,
   "id": "d0d8a211-3fdd-46ef-a1af-02203efa8c0c",
   "metadata": {},
   "outputs": [
    {
     "data": {
      "text/plain": [
       "(4000, 860)"
      ]
     },
     "execution_count": 8,
     "metadata": {},
     "output_type": "execute_result"
    }
   ],
   "source": [
    "text_len = 860\n",
    "text_array = np.zeros((len(df2), text_len))\n",
    "\n",
    "for i, text in enumerate(df2['text']):\n",
    "    for j, word in enumerate(text.split()[:text_len]):\n",
    "        if word in tokens.keys():\n",
    "            text_array[i,j]=tokens[word]\n",
    "\n",
    "text_array.shape"
   ]
  },
  {
   "cell_type": "code",
   "execution_count": 9,
   "id": "3f92fe1e-f81b-496d-b967-5fa5ef5788c0",
   "metadata": {},
   "outputs": [
    {
     "data": {
      "text/plain": [
       "(array([[0],\n",
       "        [0],\n",
       "        [0],\n",
       "        ...,\n",
       "        [1],\n",
       "        [1],\n",
       "        [1]]),\n",
       " (4000, 1))"
      ]
     },
     "execution_count": 9,
     "metadata": {},
     "output_type": "execute_result"
    }
   ],
   "source": [
    "target = df2['target'].to_list()\n",
    "target = np.array(target).reshape(-1, 1)\n",
    "target, target.shape"
   ]
  },
  {
   "cell_type": "code",
   "execution_count": 10,
   "id": "9cf60e77-ec90-423e-b9f4-2698b7147760",
   "metadata": {},
   "outputs": [
    {
     "data": {
      "text/plain": [
       "(2800, 1200)"
      ]
     },
     "execution_count": 10,
     "metadata": {},
     "output_type": "execute_result"
    }
   ],
   "source": [
    "X_train, X_test, y_train, y_test = train_test_split(text_array, target, test_size=0.3, random_state=42)\n",
    "len(X_train), len(X_test)"
   ]
  },
  {
   "cell_type": "code",
   "execution_count": 11,
   "id": "28e5c836-8111-4195-9868-2eec5940eb2d",
   "metadata": {},
   "outputs": [],
   "source": [
    "train_x, train_y = torch.IntTensor(X_train), torch.Tensor(y_train)\n",
    "test_x, test_y = torch.IntTensor(X_test), torch.Tensor(y_test)\n",
    "\n",
    "train_ds = TensorDataset(train_x, train_y)\n",
    "test_ds = TensorDataset(test_x, test_y)\n",
    "\n",
    "batch_size = 50\n",
    "\n",
    "train_dl = DataLoader(train_ds, batch_size=batch_size, shuffle=True)\n",
    "test_dl = DataLoader(test_ds, batch_size=batch_size, shuffle=True)"
   ]
  },
  {
   "cell_type": "code",
   "execution_count": 1,
   "id": "3801a994-06ca-4b41-a600-9ef4aea000f0",
   "metadata": {
    "scrolled": true
   },
   "outputs": [],
   "source": [
    "# next(iter(train_dl))"
   ]
  },
  {
   "cell_type": "code",
   "execution_count": 25,
   "id": "b71ad9ed-e1ae-464f-834a-6b27686fb66f",
   "metadata": {},
   "outputs": [],
   "source": [
    "class CompanyDetector(nn.Module):\n",
    "    def __init__(self, input_size, embedding_dim, hidden_size, output_size):\n",
    "        super(CompanyDetector, self).__init__()\n",
    "        self.hidden_size = hidden_size\n",
    "        self.output_size = output_size\n",
    "        \n",
    "        self.embedding = nn.Embedding(input_size, embedding_dim)\n",
    "        self.gru = nn.GRU(embedding_dim, hidden_size, num_layers=2, batch_first=True, dropout=0.3)\n",
    "        self.fc = nn.Linear(hidden_size, output_size)\n",
    "        self.sig = nn.Sigmoid()\n",
    "\n",
    "    def forward(self, text):\n",
    "        embedded = self.embedding(text)\n",
    "        output, hidden = self.gru(embedded)\n",
    "\n",
    "        output = self.fc(output[:, -1, :])\n",
    "        output = self.sig(output)\n",
    "       \n",
    "        return output"
   ]
  },
  {
   "cell_type": "code",
   "execution_count": 13,
   "id": "54dbcf1f-d390-4692-b23b-189c04660605",
   "metadata": {},
   "outputs": [],
   "source": [
    "device = torch.device(\"cuda\") if torch.cuda.is_available() else torch.device(\"cpu\")\n",
    "# device =  torch.device(\"cpu\")"
   ]
  },
  {
   "cell_type": "code",
   "execution_count": 39,
   "id": "ede256a7-450a-4472-9af3-d735b9b0015a",
   "metadata": {},
   "outputs": [
    {
     "name": "stdout",
     "output_type": "stream",
     "text": [
      "CompanyDetector(\n",
      "  (embedding): Embedding(17917, 256)\n",
      "  (gru): GRU(256, 512, num_layers=2, batch_first=True, dropout=0.15)\n",
      "  (fc): Linear(in_features=512, out_features=1, bias=True)\n",
      "  (sig): Sigmoid()\n",
      ")\n"
     ]
    }
   ],
   "source": [
    "model = CompanyDetector(input_size=len(tokens) + 1,\n",
    "            embedding_dim=256,\n",
    "            hidden_size=512,\n",
    "            output_size=1\n",
    ")\n",
    "\n",
    "model = model.to(device)\n",
    "optimizer = torch.optim.Adam(model.parameters(), lr=0.001)\n",
    "loss_fn = nn.BCELoss()\n",
    "\n",
    "print(model)"
   ]
  },
  {
   "cell_type": "code",
   "execution_count": 33,
   "id": "7e573277-7e90-4b29-82f9-7442666e4579",
   "metadata": {},
   "outputs": [],
   "source": [
    "def predict(model, dl):\n",
    "    outputs = []\n",
    "    corr_y = []\n",
    "    with torch.no_grad():\n",
    "        for i, (X, y) in enumerate(dl):\n",
    "            X = X.to(device)\n",
    "            y = y.float().to(device)\n",
    "            outputs.extend(model(X))\n",
    "            corr_y.extend(y)\n",
    "    return outputs, corr_y"
   ]
  },
  {
   "cell_type": "code",
   "execution_count": 34,
   "id": "12d4ecec-f904-4d30-841a-5faa8e602cb9",
   "metadata": {},
   "outputs": [],
   "source": [
    "def accuracy(predicted, y):\n",
    "    right = 0\n",
    "    for pred, target in zip(predicted, y):\n",
    "        pred = 1 if pred > 0.5 else 0 \n",
    "        right += pred == target\n",
    "\n",
    "    return (right/len(predicted) * 100).item()"
   ]
  },
  {
   "cell_type": "code",
   "execution_count": 35,
   "id": "18c6ba10-6eb5-429c-9ef1-3a7a01cb0e5d",
   "metadata": {},
   "outputs": [],
   "source": [
    "def train(model, epochs = 10, prefix='gru_'):\n",
    "    start = time.time()\n",
    "    \n",
    "    for epoch in range(epochs):\n",
    "        model.train()\n",
    "        for i, data in enumerate(tqdm(train_dl)):\n",
    "            text, target = data\n",
    "            text = text.to(device)\n",
    "            target = target.to(device)\n",
    "    \n",
    "        \n",
    "            optimizer.zero_grad()\n",
    "            outputs = model(text)\n",
    "            loss = loss_fn(outputs, target.float())\n",
    "            loss.backward()\n",
    "            optimizer.step()\n",
    "    \n",
    "        tqdm.write(f'Epoch: {epoch}')\n",
    "        torch.save(model, f'models/{prefix}{epoch}.pt')\n",
    "        train_acc = predict(model, train_dl)\n",
    "        test_acc = predict(model, test_dl)\n",
    "\n",
    "        tqdm.write(f'Train accuracy: {accuracy(*train_acc):.2f}%')\n",
    "        tqdm.write(f'Test accuracy: {accuracy(*test_acc):.2f}%')\n",
    "   \n",
    "        \n",
    "    print(f'Total time: {(time.time() - start)/60:.2f} min')"
   ]
  },
  {
   "cell_type": "code",
   "execution_count": 40,
   "id": "998cfe94-5560-42ad-9f83-5935a9871a8f",
   "metadata": {},
   "outputs": [
    {
     "name": "stderr",
     "output_type": "stream",
     "text": [
      "100%|███████████████████████████████████████████| 56/56 [00:20<00:00,  2.76it/s]\n"
     ]
    },
    {
     "name": "stdout",
     "output_type": "stream",
     "text": [
      "Epoch: 0\n",
      "Train accuracy: 64.43%\n",
      "Test accuracy: 58.25%\n"
     ]
    },
    {
     "name": "stderr",
     "output_type": "stream",
     "text": [
      "100%|███████████████████████████████████████████| 56/56 [00:20<00:00,  2.67it/s]\n"
     ]
    },
    {
     "name": "stdout",
     "output_type": "stream",
     "text": [
      "Epoch: 1\n",
      "Train accuracy: 79.93%\n",
      "Test accuracy: 58.67%\n"
     ]
    },
    {
     "name": "stderr",
     "output_type": "stream",
     "text": [
      "100%|███████████████████████████████████████████| 56/56 [00:20<00:00,  2.72it/s]\n"
     ]
    },
    {
     "name": "stdout",
     "output_type": "stream",
     "text": [
      "Epoch: 2\n",
      "Train accuracy: 87.14%\n",
      "Test accuracy: 60.67%\n"
     ]
    },
    {
     "name": "stderr",
     "output_type": "stream",
     "text": [
      "100%|███████████████████████████████████████████| 56/56 [00:20<00:00,  2.72it/s]\n"
     ]
    },
    {
     "name": "stdout",
     "output_type": "stream",
     "text": [
      "Epoch: 3\n",
      "Train accuracy: 94.39%\n",
      "Test accuracy: 63.08%\n"
     ]
    },
    {
     "name": "stderr",
     "output_type": "stream",
     "text": [
      "100%|███████████████████████████████████████████| 56/56 [00:20<00:00,  2.71it/s]\n"
     ]
    },
    {
     "name": "stdout",
     "output_type": "stream",
     "text": [
      "Epoch: 4\n",
      "Train accuracy: 97.43%\n",
      "Test accuracy: 63.75%\n"
     ]
    },
    {
     "name": "stderr",
     "output_type": "stream",
     "text": [
      "100%|███████████████████████████████████████████| 56/56 [00:20<00:00,  2.70it/s]\n"
     ]
    },
    {
     "name": "stdout",
     "output_type": "stream",
     "text": [
      "Epoch: 5\n",
      "Train accuracy: 98.32%\n",
      "Test accuracy: 64.08%\n"
     ]
    },
    {
     "name": "stderr",
     "output_type": "stream",
     "text": [
      "100%|███████████████████████████████████████████| 56/56 [00:20<00:00,  2.71it/s]\n"
     ]
    },
    {
     "name": "stdout",
     "output_type": "stream",
     "text": [
      "Epoch: 6\n",
      "Train accuracy: 99.00%\n",
      "Test accuracy: 62.50%\n"
     ]
    },
    {
     "name": "stderr",
     "output_type": "stream",
     "text": [
      "100%|███████████████████████████████████████████| 56/56 [00:20<00:00,  2.71it/s]\n"
     ]
    },
    {
     "name": "stdout",
     "output_type": "stream",
     "text": [
      "Epoch: 7\n",
      "Train accuracy: 99.39%\n",
      "Test accuracy: 62.58%\n"
     ]
    },
    {
     "name": "stderr",
     "output_type": "stream",
     "text": [
      "100%|███████████████████████████████████████████| 56/56 [00:21<00:00,  2.65it/s]\n"
     ]
    },
    {
     "name": "stdout",
     "output_type": "stream",
     "text": [
      "Epoch: 8\n",
      "Train accuracy: 99.79%\n",
      "Test accuracy: 63.67%\n"
     ]
    },
    {
     "name": "stderr",
     "output_type": "stream",
     "text": [
      "100%|███████████████████████████████████████████| 56/56 [00:20<00:00,  2.68it/s]\n"
     ]
    },
    {
     "name": "stdout",
     "output_type": "stream",
     "text": [
      "Epoch: 9\n",
      "Train accuracy: 99.89%\n",
      "Test accuracy: 62.08%\n",
      "Total time: 5.30 min\n"
     ]
    }
   ],
   "source": [
    "train(model)"
   ]
  },
  {
   "cell_type": "code",
   "execution_count": 42,
   "id": "4bc2fc61-c179-4cd1-9cd6-03f8777ae134",
   "metadata": {},
   "outputs": [
    {
     "data": {
      "text/plain": [
       "CompanyDetector(\n",
       "  (embedding): Embedding(17917, 256)\n",
       "  (gru): GRU(256, 512, num_layers=2, batch_first=True, dropout=0.15)\n",
       "  (fc): Linear(in_features=512, out_features=1, bias=True)\n",
       "  (sig): Sigmoid()\n",
       ")"
      ]
     },
     "execution_count": 42,
     "metadata": {},
     "output_type": "execute_result"
    }
   ],
   "source": [
    "model1 = torch.load('models/gru_5.pt', weights_only=False)\n",
    "model1.eval()"
   ]
  },
  {
   "cell_type": "code",
   "execution_count": 48,
   "id": "37181699-4c97-4610-a4a6-ce7ecb4f9b21",
   "metadata": {},
   "outputs": [
    {
     "name": "stdout",
     "output_type": "stream",
     "text": [
      "Model accuracy = 63.67%\n",
      "\n",
      "Classification Report:\n",
      "              precision    recall  f1-score   support\n",
      "\n",
      "         0.0       0.64      0.68      0.66       622\n",
      "         1.0       0.63      0.59      0.61       578\n",
      "\n",
      "    accuracy                           0.64      1200\n",
      "   macro avg       0.64      0.63      0.63      1200\n",
      "weighted avg       0.64      0.64      0.64      1200\n",
      "\n"
     ]
    }
   ],
   "source": [
    "test = predict(model1, test_dl)\n",
    "pred = []\n",
    "for i in test[0]:\n",
    "    tmp = i.cpu()\n",
    "    if tmp > 0.5:\n",
    "        pred.append(1)\n",
    "    else:\n",
    "        pred.append(0)\n",
    "    \n",
    "test = [i.cpu() for i in test[1]]\n",
    "\n",
    "\n",
    "accuracy_score = metrics.accuracy_score(pred, test)\n",
    "\n",
    "print(f'Model accuracy = {accuracy_score*100:4.2f}%\\n')\n",
    "print('Classification Report:')\n",
    "print(metrics.classification_report(test, pred))"
   ]
  },
  {
   "cell_type": "code",
   "execution_count": 52,
   "id": "1db02760-f808-4bd4-b066-9a312347b97b",
   "metadata": {},
   "outputs": [
    {
     "data": {
      "text/plain": [
       "Text(0.5, 1.0, 'Confusion Matrix')"
      ]
     },
     "execution_count": 52,
     "metadata": {},
     "output_type": "execute_result"
    },
    {
     "data": {
      "image/png": "[encoded data removed]",
      "text/plain": [
       "<Figure size 640x480 with 2 Axes>"
      ]
     },
     "metadata": {},
     "output_type": "display_data"
    }
   ],
   "source": [
    "cm = pd.DataFrame(metrics.confusion_matrix(test, pred))\n",
    "sns.heatmap(cm, annot=True, annot_kws={\"size\": 20}, fmt='.0f')\n",
    "plt.title('Confusion Matrix')"
   ]
  },
  {
   "cell_type": "code",
   "execution_count": null,
   "id": "7166dc12-6f92-49d3-9150-afef2302b379",
   "metadata": {},
   "outputs": [],
   "source": []
  },
  {
   "cell_type": "markdown",
   "id": "1580277c-8b97-40b5-bfc1-ed6a3633661d",
   "metadata": {},
   "source": [
    "# Многоклассовый классификатор"
   ]
  },
  {
   "cell_type": "code",
   "execution_count": 70,
   "id": "15ad0d33-94d3-48fa-b169-ae523fe9e343",
   "metadata": {},
   "outputs": [
    {
     "name": "stdout",
     "output_type": "stream",
     "text": [
      "{'Блог компании Timeweb Cloud', 'Блог компании RUVDS.com', 'Блог компании ua-hosting.company', 'Математика*', 'Блог компании Онлайн Патент', 'Блог компании FirstVDS', 'Читальный зал'}\n"
     ]
    }
   ],
   "source": [
    "x = df.groupby('theme').count()\n",
    "x = x.sort_values(by='url', ascending = False)[1:8]\n",
    "top_themes = set(x['url'].index.to_list())\n",
    "print(top_themes)"
   ]
  },
  {
   "cell_type": "code",
   "execution_count": 78,
   "id": "ab7ee836-8e86-4b18-87a8-66693ce128ac",
   "metadata": {},
   "outputs": [
    {
     "name": "stdout",
     "output_type": "stream",
     "text": [
      "<class 'pandas.core.frame.DataFrame'>\n",
      "Index: 1455 entries, 3 to 4336\n",
      "Data columns (total 13 columns):\n",
      " #   Column           Non-Null Count  Dtype  \n",
      "---  ------           --------------  -----  \n",
      " 0   amount_of_imgs   1455 non-null   int64  \n",
      " 1   bookmark         1455 non-null   int64  \n",
      " 2   comments         1455 non-null   int64  \n",
      " 3   date             1455 non-null   object \n",
      " 4   isRight          1455 non-null   float64\n",
      " 5   number_of_views  1455 non-null   int64  \n",
      " 6   read_time        1455 non-null   int64  \n",
      " 7   tags             1455 non-null   object \n",
      " 8   text             1455 non-null   object \n",
      " 9   theme            1455 non-null   object \n",
      " 10  title            1455 non-null   object \n",
      " 11  url              1455 non-null   object \n",
      " 12  votes            1455 non-null   int64  \n",
      "dtypes: float64(1), int64(6), object(6)\n",
      "memory usage: 159.1+ KB\n"
     ]
    },
    {
     "data": {
      "text/plain": [
       "(array(['Блог компании Timeweb Cloud', 'Блог компании ua-hosting.company',\n",
       "        'Блог компании FirstVDS', 'Блог компании Онлайн Патент',\n",
       "        'Блог компании RUVDS.com', 'Читальный зал', 'Математика*'],\n",
       "       dtype=object),\n",
       " (1455, 13),\n",
       " None)"
      ]
     },
     "execution_count": 78,
     "metadata": {},
     "output_type": "execute_result"
    }
   ],
   "source": [
    "def choose_themes(row):\n",
    "    if row['theme'] in top_themes:\n",
    "        row['isRight'] = 1\n",
    "        \n",
    "    return row\n",
    "\n",
    "df1 = df.apply(choose_themes, axis=1)\n",
    "df1 = df1.dropna(subset=['isRight'])\n",
    "df1.theme.unique(), df1.shape, df1.info()"
   ]
  },
  {
   "cell_type": "code",
   "execution_count": 79,
   "id": "7271eeae-013c-40b1-a758-e522a0bb44ca",
   "metadata": {},
   "outputs": [
    {
     "name": "stdout",
     "output_type": "stream",
     "text": [
      "Количество токенов: 17916\n"
     ]
    }
   ],
   "source": [
    "unique_words = set(' '.join(df2['text']).split())\n",
    "tokens = {value: key for key, value in enumerate(unique_words, start=1)}\n",
    "print('Количество токенов:', len(tokens))"
   ]
  },
  {
   "cell_type": "code",
   "execution_count": 82,
   "id": "e335ae3e-e315-4b6e-b74c-c728c12fd60b",
   "metadata": {},
   "outputs": [
    {
     "data": {
      "text/plain": [
       "count    1455.000000\n",
       "mean     1352.079725\n",
       "std       713.777762\n",
       "min        83.000000\n",
       "25%       898.500000\n",
       "50%      1249.000000\n",
       "75%      1675.500000\n",
       "max      7607.000000\n",
       "Name: text, dtype: float64"
      ]
     },
     "execution_count": 82,
     "metadata": {},
     "output_type": "execute_result"
    }
   ],
   "source": [
    "df1['text'].map(lambda x: len(x.split())).describe()"
   ]
  },
  {
   "cell_type": "code",
   "execution_count": 84,
   "id": "1b9142e6-cba9-4eb3-870b-7fc8d2bd518b",
   "metadata": {},
   "outputs": [
    {
     "data": {
      "text/plain": [
       "(1455, 720)"
      ]
     },
     "execution_count": 84,
     "metadata": {},
     "output_type": "execute_result"
    }
   ],
   "source": [
    "text_len = 720\n",
    "text_array = np.zeros((len(df1), text_len))\n",
    "\n",
    "for i, text in enumerate(df1['text']):\n",
    "    for j, word in enumerate(text.split()[:text_len]):\n",
    "        if word in tokens.keys():\n",
    "            text_array[i,j]=tokens[word]\n",
    "\n",
    "text_array.shape"
   ]
  },
  {
   "cell_type": "code",
   "execution_count": 92,
   "id": "075b45e2-427a-4fa5-9563-bd78e66edea8",
   "metadata": {},
   "outputs": [
    {
     "name": "stdout",
     "output_type": "stream",
     "text": [
      "Категории:\n",
      "[array(['Блог компании FirstVDS', 'Блог компании RUVDS.com',\n",
      "       'Блог компании Timeweb Cloud', 'Блог компании ua-hosting.company',\n",
      "       'Блог компании Онлайн Патент', 'Математика*', 'Читальный зал'],\n",
      "      dtype=object)]\n",
      "\n",
      "Читальный зал Блог компании FirstVDS [[1. 0. 0. 0. 0. 0. 0.]]\n",
      "Читальный зал Блог компании RUVDS.com [[0. 1. 0. 0. 0. 0. 0.]]\n",
      "Читальный зал Блог компании Timeweb Cloud [[0. 0. 1. 0. 0. 0. 0.]]\n",
      "Читальный зал Блог компании ua-hosting.company [[0. 0. 0. 1. 0. 0. 0.]]\n",
      "Читальный зал Блог компании Онлайн Патент [[0. 0. 0. 0. 1. 0. 0.]]\n",
      "Читальный зал Математика* [[0. 0. 0. 0. 0. 1. 0.]]\n",
      "Читальный зал Читальный зал [[0. 0. 0. 0. 0. 0. 1.]]\n"
     ]
    }
   ],
   "source": [
    "target_enc = OneHotEncoder(handle_unknown='ignore')\n",
    "X = df1['theme'].to_numpy().reshape(-1, 1)\n",
    "\n",
    "unique_items = np.unique(X).reshape(-1, 1)\n",
    "target_enc.fit(unique_items)\n",
    "\n",
    "print('Категории:', target_enc.categories_, sep='\\n')\n",
    "print()\n",
    "for i in target_enc.categories_[0]:\n",
    "    print(desc, i, target_enc.transform(np.array([i]).reshape(-1, 1)).toarray())"
   ]
  },
  {
   "cell_type": "code",
   "execution_count": 93,
   "id": "cff7eb63-76f6-442e-8be3-154adbb6c1d0",
   "metadata": {},
   "outputs": [],
   "source": [
    "array = df1.theme.to_numpy().reshape(-1, 1)\n",
    "target = target_enc.transform(array).toarray()"
   ]
  },
  {
   "cell_type": "code",
   "execution_count": 95,
   "id": "b9de6cae-9c17-427a-8faa-4ade78577da5",
   "metadata": {},
   "outputs": [
    {
     "data": {
      "text/plain": [
       "(1455, 7)"
      ]
     },
     "execution_count": 95,
     "metadata": {},
     "output_type": "execute_result"
    }
   ],
   "source": [
    "target.shape"
   ]
  },
  {
   "cell_type": "code",
   "execution_count": 98,
   "id": "02790b8b-292f-47f6-9a0d-e79e0cc6cbb1",
   "metadata": {},
   "outputs": [
    {
     "data": {
      "text/plain": [
       "(1015, 435)"
      ]
     },
     "execution_count": 98,
     "metadata": {},
     "output_type": "execute_result"
    }
   ],
   "source": [
    "X_train, X_test, y_train, y_test = train_test_split(text_array[:-5], target[:-5], test_size=0.3, random_state=42)\n",
    "len(X_train), len(X_test)"
   ]
  },
  {
   "cell_type": "code",
   "execution_count": 102,
   "id": "947bc485-9974-40e3-bff9-12879bd17299",
   "metadata": {},
   "outputs": [
    {
     "name": "stdout",
     "output_type": "stream",
     "text": [
      "Counter({np.int64(1): 248, np.int64(3): 190, np.int64(0): 145, np.int64(2): 140, np.int64(6): 132, np.int64(4): 80, np.int64(5): 80}) 6.999999999999967 1015\n",
      "Counter({np.int64(3): 89, np.int64(1): 88, np.int64(0): 73, np.int64(6): 64, np.int64(2): 52, np.int64(5): 40, np.int64(4): 29}) 7.000000000000004 435\n"
     ]
    }
   ],
   "source": [
    "# Балансировка\n",
    "def get_sampler(data):\n",
    "    x = [np.argmax(i) for i in data]\n",
    "    counter = Counter(x)\n",
    "    weights = [1/counter.get(i) for i in x]\n",
    "    print(counter, sum(weights) ,len(data))\n",
    "    return WeightedRandomSampler(weights, num_samples=len(weights))\n",
    "\n",
    "train_sampler = get_sampler(y_train)\n",
    "test_sampler = get_sampler(y_test)"
   ]
  },
  {
   "cell_type": "code",
   "execution_count": 103,
   "id": "c40836bf-8573-432c-b0ab-b1f9453454a0",
   "metadata": {},
   "outputs": [],
   "source": [
    "train_x, train_y = torch.IntTensor(X_train), torch.Tensor(y_train)\n",
    "test_x, test_y = torch.IntTensor(X_test), torch.Tensor(y_test)\n",
    "\n",
    "train_ds = TensorDataset(train_x, train_y)\n",
    "test_ds = TensorDataset(test_x, test_y)\n",
    "\n",
    "batch_size = 5\n",
    "\n",
    "train_dl = DataLoader(train_ds, batch_size=batch_size, sampler=train_sampler)\n",
    "test_dl = DataLoader(test_ds, batch_size=batch_size, sampler=test_sampler)"
   ]
  },
  {
   "cell_type": "code",
   "execution_count": 112,
   "id": "ff2a2fd7-4bee-4981-a095-02751a9a8814",
   "metadata": {},
   "outputs": [],
   "source": [
    "class ThemeDetector(nn.Module):\n",
    "    def __init__(self, input_size, embedding_dim, hidden_size, output_size):\n",
    "        super(CompanyDetector, self).__init__()\n",
    "        self.hidden_size = hidden_size\n",
    "        self.output_size = output_size\n",
    "        \n",
    "        self.embedding = nn.Embedding(input_size, embedding_dim)\n",
    "        self.gru = nn.GRU(embedding_dim, hidden_size, num_layers=3, batch_first=True, dropout=0.3)\n",
    "        self.fc = nn.Linear(hidden_size, output_size)\n",
    "        self.sig = nn.Sigmoid()\n",
    "\n",
    "    def forward(self, text):\n",
    "        embedded = self.embedding(text)\n",
    "        output, hidden = self.gru(embedded)\n",
    "\n",
    "        output = self.fc(output[:, -1, :])\n",
    "        output = self.sig(output)\n",
    "       \n",
    "        return output"
   ]
  },
  {
   "cell_type": "code",
   "execution_count": 113,
   "id": "44d64682-58a2-4e15-8c5c-f1bf4edcab3f",
   "metadata": {},
   "outputs": [
    {
     "name": "stdout",
     "output_type": "stream",
     "text": [
      "CompanyDetector(\n",
      "  (embedding): Embedding(17917, 256)\n",
      "  (gru): GRU(256, 512, num_layers=2, batch_first=True, dropout=0.15)\n",
      "  (fc): Linear(in_features=512, out_features=7, bias=True)\n",
      "  (sig): Sigmoid()\n",
      ")\n"
     ]
    }
   ],
   "source": [
    "model = ThemeDetector(input_size=len(tokens) + 1,\n",
    "            embedding_dim=256,\n",
    "            hidden_size=512,\n",
    "            output_size=7\n",
    ")\n",
    "\n",
    "model = model.to(device)\n",
    "optimizer = torch.optim.Adam(model.parameters(), lr=0.0005)\n",
    "loss_fn = nn.BCELoss()\n",
    "\n",
    "print(model)"
   ]
  },
  {
   "cell_type": "code",
   "execution_count": 109,
   "id": "b2ac6203-589e-43ee-9158-133a927b9afb",
   "metadata": {},
   "outputs": [],
   "source": [
    "def accuracy(predicted, y):\n",
    "    right = 0\n",
    "    for pred, target in zip(predicted, y):\n",
    "        right += pred.argmax() == target.argmax()\n",
    "\n",
    "    return (right/len(predicted) * 100).item()"
   ]
  },
  {
   "cell_type": "code",
   "execution_count": 114,
   "id": "889d3942-c410-4135-b102-0a778acf7ed1",
   "metadata": {},
   "outputs": [
    {
     "name": "stderr",
     "output_type": "stream",
     "text": [
      "100%|█████████████████████████████████████████| 203/203 [00:19<00:00, 10.23it/s]\n"
     ]
    },
    {
     "name": "stdout",
     "output_type": "stream",
     "text": [
      "Epoch: 0\n",
      "Train accuracy: 45.32%\n",
      "Test accuracy: 17.70%\n"
     ]
    },
    {
     "name": "stderr",
     "output_type": "stream",
     "text": [
      "100%|█████████████████████████████████████████| 203/203 [00:19<00:00, 10.23it/s]\n"
     ]
    },
    {
     "name": "stdout",
     "output_type": "stream",
     "text": [
      "Epoch: 1\n",
      "Train accuracy: 73.40%\n",
      "Test accuracy: 28.05%\n"
     ]
    },
    {
     "name": "stderr",
     "output_type": "stream",
     "text": [
      "100%|█████████████████████████████████████████| 203/203 [00:19<00:00, 10.25it/s]\n"
     ]
    },
    {
     "name": "stdout",
     "output_type": "stream",
     "text": [
      "Epoch: 2\n",
      "Train accuracy: 84.93%\n",
      "Test accuracy: 39.31%\n"
     ]
    },
    {
     "name": "stderr",
     "output_type": "stream",
     "text": [
      "100%|█████████████████████████████████████████| 203/203 [00:20<00:00,  9.97it/s]\n"
     ]
    },
    {
     "name": "stdout",
     "output_type": "stream",
     "text": [
      "Epoch: 3\n",
      "Train accuracy: 88.08%\n",
      "Test accuracy: 28.74%\n"
     ]
    },
    {
     "name": "stderr",
     "output_type": "stream",
     "text": [
      "100%|█████████████████████████████████████████| 203/203 [00:20<00:00, 10.01it/s]\n"
     ]
    },
    {
     "name": "stdout",
     "output_type": "stream",
     "text": [
      "Epoch: 4\n",
      "Train accuracy: 95.27%\n",
      "Test accuracy: 31.03%\n"
     ]
    },
    {
     "name": "stderr",
     "output_type": "stream",
     "text": [
      "100%|█████████████████████████████████████████| 203/203 [00:19<00:00, 10.23it/s]\n"
     ]
    },
    {
     "name": "stdout",
     "output_type": "stream",
     "text": [
      "Epoch: 5\n",
      "Train accuracy: 98.23%\n",
      "Test accuracy: 29.43%\n"
     ]
    },
    {
     "name": "stderr",
     "output_type": "stream",
     "text": [
      "100%|█████████████████████████████████████████| 203/203 [00:19<00:00, 10.23it/s]\n"
     ]
    },
    {
     "name": "stdout",
     "output_type": "stream",
     "text": [
      "Epoch: 6\n",
      "Train accuracy: 98.92%\n",
      "Test accuracy: 35.40%\n"
     ]
    },
    {
     "name": "stderr",
     "output_type": "stream",
     "text": [
      "100%|█████████████████████████████████████████| 203/203 [00:19<00:00, 10.22it/s]\n"
     ]
    },
    {
     "name": "stdout",
     "output_type": "stream",
     "text": [
      "Epoch: 7\n",
      "Train accuracy: 99.41%\n",
      "Test accuracy: 30.80%\n"
     ]
    },
    {
     "name": "stderr",
     "output_type": "stream",
     "text": [
      "100%|█████████████████████████████████████████| 203/203 [00:19<00:00, 10.22it/s]\n"
     ]
    },
    {
     "name": "stdout",
     "output_type": "stream",
     "text": [
      "Epoch: 8\n",
      "Train accuracy: 99.41%\n",
      "Test accuracy: 38.39%\n"
     ]
    },
    {
     "name": "stderr",
     "output_type": "stream",
     "text": [
      "100%|█████████████████████████████████████████| 203/203 [00:19<00:00, 10.22it/s]\n"
     ]
    },
    {
     "name": "stdout",
     "output_type": "stream",
     "text": [
      "Epoch: 9\n",
      "Train accuracy: 99.70%\n",
      "Test accuracy: 35.63%\n",
      "Total time: 5.21 min\n"
     ]
    }
   ],
   "source": [
    "train(model, prefix='gru_7_')"
   ]
  },
  {
   "cell_type": "code",
   "execution_count": 115,
   "id": "4034c9d9-48d6-4522-bb4d-69a944ffd62a",
   "metadata": {},
   "outputs": [
    {
     "data": {
      "text/plain": [
       "ThemeDetector(\n",
       "  (embedding): Embedding(17917, 256)\n",
       "  (gru): GRU(256, 512, num_layers=2, batch_first=True, dropout=0.15)\n",
       "  (fc): Linear(in_features=512, out_features=7, bias=True)\n",
       "  (sig): Sigmoid()\n",
       ")"
      ]
     },
     "execution_count": 115,
     "metadata": {},
     "output_type": "execute_result"
    }
   ],
   "source": [
    "model1 = torch.load('models/gru_7_2.pt', weights_only=False)\n",
    "model1.eval()"
   ]
  },
  {
   "cell_type": "code",
   "execution_count": 123,
   "id": "7c20da88-1456-4f95-baed-cc987596674f",
   "metadata": {},
   "outputs": [
    {
     "name": "stdout",
     "output_type": "stream",
     "text": [
      "Model accuracy = 38.85%\n",
      "\n",
      "Classification Report:\n",
      "              precision    recall  f1-score   support\n",
      "\n",
      "           0       0.37      0.33      0.35        75\n",
      "           1       0.23      0.33      0.27        63\n",
      "           2       0.19      0.12      0.15        56\n",
      "           3       0.54      0.73      0.62        60\n",
      "           4       0.81      0.64      0.72        67\n",
      "           5       0.37      0.35      0.36        48\n",
      "           6       0.20      0.18      0.19        66\n",
      "\n",
      "    accuracy                           0.39       435\n",
      "   macro avg       0.39      0.39      0.38       435\n",
      "weighted avg       0.39      0.39      0.38       435\n",
      "\n"
     ]
    }
   ],
   "source": [
    "values = predict(model1, test_dl)\n",
    "\n",
    "pred = []\n",
    "test = []\n",
    "for i, j in zip(*values):\n",
    "    pred.append(i.cpu().argmax())\n",
    "    test.append(j.cpu().argmax())\n",
    "\n",
    "\n",
    "accuracy_score = metrics.accuracy_score(pred, test)\n",
    "\n",
    "print(f'Model accuracy = {accuracy_score*100:4.2f}%\\n')\n",
    "print('Classification Report:')\n",
    "print(metrics.classification_report(test, pred))"
   ]
  },
  {
   "cell_type": "code",
   "execution_count": 124,
   "id": "3d3e4c27-a689-422e-88a5-db6ca25f8fa9",
   "metadata": {},
   "outputs": [
    {
     "data": {
      "text/plain": [
       "Text(0.5, 1.0, 'Confusion Matrix')"
      ]
     },
     "execution_count": 124,
     "metadata": {},
     "output_type": "execute_result"
    },
    {
     "data": {
      "image/png": "[encoded data removed]",
      "text/plain": [
       "<Figure size 640x480 with 2 Axes>"
      ]
     },
     "metadata": {},
     "output_type": "display_data"
    }
   ],
   "source": [
    "cm = pd.DataFrame(metrics.confusion_matrix(test, pred))\n",
    "sns.heatmap(cm, annot=True, annot_kws={\"size\": 20}, fmt='.0f')\n",
    "plt.title('Confusion Matrix')"
   ]
  }
 ],
 "metadata": {
  "kernelspec": {
   "display_name": "Python 3 (ipykernel)",
   "language": "python",
   "name": "python3"
  },
  "language_info": {
   "codemirror_mode": {
    "name": "ipython",
    "version": 3
   },
   "file_extension": ".py",
   "mimetype": "text/x-python",
   "name": "python",
   "nbconvert_exporter": "python",
   "pygments_lexer": "ipython3",
   "version": "3.10.12"
  },
  "widgets": {
   "application/vnd.jupyter.widget-state+json": {
    "state": {},
    "version_major": 2,
    "version_minor": 0
   }
  }
 },
 "nbformat": 4,
 "nbformat_minor": 5
}
