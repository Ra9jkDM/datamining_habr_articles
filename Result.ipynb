{
 "cells": [
  {
   "cell_type": "code",
   "execution_count": 5,
   "id": "64623377-ac44-48b9-9ba7-65aecba7313a",
   "metadata": {},
   "outputs": [
    {
     "name": "stdout",
     "output_type": "stream",
     "text": [
      "Defaulting to user installation because normal site-packages is not writeable\n",
      "Requirement already satisfied: beautifulsoup4 in /usr/lib/python3/dist-packages (4.10.0)\n",
      "Defaulting to user installation because normal site-packages is not writeable\n",
      "Requirement already satisfied: requests in /home/den/.local/lib/python3.10/site-packages (2.32.3)\n",
      "Requirement already satisfied: urllib3<3,>=1.21.1 in /usr/lib/python3/dist-packages (from requests) (1.26.5)\n",
      "Requirement already satisfied: idna<4,>=2.5 in /usr/lib/python3/dist-packages (from requests) (3.3)\n",
      "Requirement already satisfied: certifi>=2017.4.17 in /usr/lib/python3/dist-packages (from requests) (2020.6.20)\n",
      "Requirement already satisfied: charset-normalizer<4,>=2 in /home/den/.local/lib/python3.10/site-packages (from requests) (3.3.2)\n",
      "Defaulting to user installation because normal site-packages is not writeable\n",
      "Requirement already satisfied: fake_useragent in /home/den/.local/lib/python3.10/site-packages (1.5.1)\n",
      "Defaulting to user installation because normal site-packages is not writeable\n",
      "Requirement already satisfied: pandas in /home/den/.local/lib/python3.10/site-packages (2.2.2)\n",
      "Requirement already satisfied: numpy in /home/den/.local/lib/python3.10/site-packages (1.26.4)\n",
      "Requirement already satisfied: tzdata>=2022.7 in /home/den/.local/lib/python3.10/site-packages (from pandas) (2024.1)\n",
      "Requirement already satisfied: pytz>=2020.1 in /usr/lib/python3/dist-packages (from pandas) (2022.1)\n",
      "Requirement already satisfied: python-dateutil>=2.8.2 in /home/den/.local/lib/python3.10/site-packages (from pandas) (2.9.0.post0)\n",
      "Requirement already satisfied: six>=1.5 in /usr/lib/python3/dist-packages (from python-dateutil>=2.8.2->pandas) (1.16.0)\n",
      "Defaulting to user installation because normal site-packages is not writeable\n",
      "Collecting matplotlib\n",
      "  Downloading matplotlib-3.9.2-cp310-cp310-manylinux_2_17_x86_64.manylinux2014_x86_64.whl (8.3 MB)\n",
      "\u001b[2K     \u001b[38;2;114;156;31m━━━━━━━━━━━━━━━━━━━━━━━━━━━━━━━━━━━━━━━━\u001b[0m \u001b[32m8.3/8.3 MB\u001b[0m \u001b[31m7.3 MB/s\u001b[0m eta \u001b[36m0:00:00\u001b[0mm eta \u001b[36m0:00:01\u001b[0m0:01\u001b[0m:01\u001b[0m\n",
      "\u001b[?25hRequirement already satisfied: packaging>=20.0 in /home/den/.local/lib/python3.10/site-packages (from matplotlib) (24.1)\n",
      "Collecting fonttools>=4.22.0\n",
      "  Downloading fonttools-4.53.1-cp310-cp310-manylinux_2_17_x86_64.manylinux2014_x86_64.whl (4.6 MB)\n",
      "\u001b[2K     \u001b[38;2;114;156;31m━━━━━━━━━━━━━━━━━━━━━━━━━━━━━━━━━━━━━━━━\u001b[0m \u001b[32m4.6/4.6 MB\u001b[0m \u001b[31m10.2 MB/s\u001b[0m eta \u001b[36m0:00:00\u001b[0mm eta \u001b[36m0:00:01\u001b[0m0:01\u001b[0m:01\u001b[0m\n",
      "\u001b[?25hRequirement already satisfied: pyparsing>=2.3.1 in /usr/lib/python3/dist-packages (from matplotlib) (2.4.7)\n",
      "Requirement already satisfied: python-dateutil>=2.7 in /home/den/.local/lib/python3.10/site-packages (from matplotlib) (2.9.0.post0)\n",
      "Collecting contourpy>=1.0.1\n",
      "  Downloading contourpy-1.3.0-cp310-cp310-manylinux_2_17_x86_64.manylinux2014_x86_64.whl (322 kB)\n",
      "\u001b[2K     \u001b[38;2;114;156;31m━━━━━━━━━━━━━━━━━━━━━━━━━━━━━━━━━━━━━━━\u001b[0m \u001b[32m322.0/322.0 KB\u001b[0m \u001b[31m7.8 MB/s\u001b[0m eta \u001b[36m0:00:00\u001b[0m[36m0:00:01\u001b[0m\n",
      "\u001b[?25hCollecting kiwisolver>=1.3.1\n",
      "  Downloading kiwisolver-1.4.7-cp310-cp310-manylinux_2_12_x86_64.manylinux2010_x86_64.whl (1.6 MB)\n",
      "\u001b[2K     \u001b[38;2;114;156;31m━━━━━━━━━━━━━━━━━━━━━━━━━━━━━━━━━━━━━━━━\u001b[0m \u001b[32m1.6/1.6 MB\u001b[0m \u001b[31m10.3 MB/s\u001b[0m eta \u001b[36m0:00:00\u001b[0mm eta \u001b[36m0:00:01\u001b[0m0:01\u001b[0m:01\u001b[0m\n",
      "\u001b[?25hRequirement already satisfied: numpy>=1.23 in /home/den/.local/lib/python3.10/site-packages (from matplotlib) (1.26.4)\n",
      "Requirement already satisfied: pillow>=8 in /usr/lib/python3/dist-packages (from matplotlib) (9.0.1)\n",
      "Collecting cycler>=0.10\n",
      "  Using cached cycler-0.12.1-py3-none-any.whl (8.3 kB)\n",
      "Requirement already satisfied: six>=1.5 in /usr/lib/python3/dist-packages (from python-dateutil>=2.7->matplotlib) (1.16.0)\n",
      "Installing collected packages: kiwisolver, fonttools, cycler, contourpy, matplotlib\n",
      "Successfully installed contourpy-1.3.0 cycler-0.12.1 fonttools-4.53.1 kiwisolver-1.4.7 matplotlib-3.9.2\n",
      "Defaulting to user installation because normal site-packages is not writeable\n",
      "Requirement already satisfied: lxml in /home/den/.local/lib/python3.10/site-packages (5.3.0)\n"
     ]
    }
   ],
   "source": [
    "# Install libs\n",
    "\n",
    "!pip install beautifulsoup4\n",
    "!pip install requests\n",
    "!pip install fake_useragent\n",
    "!pip install pandas numpy\n",
    "!pip install matplotlib\n",
    "!pip install lxml"
   ]
  },
  {
   "cell_type": "code",
   "execution_count": 34,
   "id": "e68d0968-a34c-48aa-9aba-b44499e4536a",
   "metadata": {},
   "outputs": [],
   "source": [
    "# Imports\n",
    "\n",
    "import numpy as np\n",
    "import pandas as pd\n",
    "import matplotlib.pyplot as plt\n",
    "%matplotlib inline\n",
    "\n",
    "import requests\n",
    "from fake_useragent import UserAgent\n",
    "\n",
    "from bs4 import BeautifulSoup\n",
    "from lxml import etree\n",
    "import json\n",
    "\n",
    "import warnings\n",
    "warnings.filterwarnings(\"ignore\")\n",
    "\n",
    "from time import sleep\n",
    "\n",
    "import os"
   ]
  },
  {
   "cell_type": "code",
   "execution_count": 46,
   "id": "a2aaae7b-cc98-477b-8c96-b96e97ad2bb1",
   "metadata": {},
   "outputs": [],
   "source": [
    "# Find all links to articles\n",
    "\n",
    "user_agent = UserAgent().chrome\n",
    "\n",
    "base_url = 'https://habr.com'\n",
    "main_link = 'https://habr.com/ru/hubs/popular_science/articles/'\n",
    "links_file = 'habr_urls.txt'\n",
    "dir_name = 'habr_pages'\n",
    "file_names = dir_name + '/page{}.txt'"
   ]
  },
  {
   "cell_type": "code",
   "execution_count": 24,
   "id": "f892b42d-de55-4ad0-b34f-2f3a5af956c1",
   "metadata": {},
   "outputs": [
    {
     "data": {
      "text/plain": [
       "[<a class=\"tm-title__link\" data-article-link=\"true\" data-test-id=\"article-snippet-title-link\" href=\"/ru/articles/843302/\"><span>Гайд по психопатам с научным подходом</span></a>,\n",
       " <a class=\"tm-title__link\" data-article-link=\"true\" data-test-id=\"article-snippet-title-link\" href=\"/ru/articles/843292/\"><span>Невероятная история господина президента</span></a>,\n",
       " <a class=\"tm-title__link\" data-article-link=\"true\" data-test-id=\"article-snippet-title-link\" href=\"/ru/articles/843224/\"><span>Современные детекторы рентгеновского излучения</span></a>,\n",
       " <a class=\"tm-title__link\" data-article-link=\"true\" data-test-id=\"article-snippet-title-link\" href=\"/ru/articles/843278/\"><span>ЧГК-GPT, или насколько хорош новый ChatGPT o1-preview в спортивном «Что? Где? Когда?»</span></a>,\n",
       " <a class=\"tm-title__link\" data-article-link=\"true\" data-test-id=\"article-snippet-title-link\" href=\"/ru/articles/843238/\"><span>Диалектика vs Хаос: Или почему Гегель перевернулся бы в гробу</span></a>,\n",
       " <a class=\"tm-title__link\" data-article-link=\"true\" data-test-id=\"article-snippet-title-link\" href=\"/ru/articles/843234/\"><span>Сети Колмогорова-Арнольда: новый «старый» шаг к интерпретируемому ИИ</span></a>,\n",
       " <a class=\"tm-title__link\" data-article-link=\"true\" data-test-id=\"article-snippet-title-link\" href=\"/ru/companies/kaspersky/articles/842244/\"><span>Спидран карьеры software-архитектора</span></a>,\n",
       " <a class=\"tm-title__link\" data-article-link=\"true\" data-test-id=\"article-snippet-title-link\" href=\"/ru/companies/timeweb/articles/843108/\"><span>Как победить вампира-социопата, не приходя в сознание, или Еще раз о современной научной фантастике</span></a>,\n",
       " <a class=\"tm-title__link\" data-article-link=\"true\" data-test-id=\"article-snippet-title-link\" href=\"/ru/articles/843106/\"><span>Микрофлюидика: укрощение электропроводящих капелек. Guest Post</span></a>,\n",
       " <a class=\"tm-title__link\" data-article-link=\"true\" data-test-id=\"article-snippet-title-link\" href=\"/ru/articles/842584/\"><span>График технологий Гартнера-Даннинга-Крюгера</span></a>,\n",
       " <a class=\"tm-title__link\" data-article-link=\"true\" data-test-id=\"article-snippet-title-link\" href=\"/ru/companies/first/articles/843096/\"><span>Кожаные не только люди: Как андроиды обретают чувство осязания и чем это поможет нам</span></a>,\n",
       " <a class=\"tm-title__link\" data-article-link=\"true\" data-test-id=\"article-snippet-title-link\" href=\"/ru/articles/842646/\"><span>Апериодический монотайл</span></a>,\n",
       " <a class=\"tm-title__link\" data-article-link=\"true\" data-test-id=\"article-snippet-title-link\" href=\"/ru/companies/ua-hosting/articles/842418/\"><span>Кошачья грация: искусственные мышцы для роботизированных ног</span></a>,\n",
       " <a class=\"tm-title__link\" data-article-link=\"true\" data-test-id=\"article-snippet-title-link\" href=\"/ru/articles/842988/\"><span>Майнинг. Что это такое?</span></a>,\n",
       " <a class=\"tm-title__link\" data-article-link=\"true\" data-test-id=\"article-snippet-title-link\" href=\"/ru/articles/842908/\"><span>Влияет ли суперлуние на жизнь людей?</span></a>,\n",
       " <a class=\"tm-title__link\" data-article-link=\"true\" data-test-id=\"article-snippet-title-link\" href=\"/ru/companies/ru_mts/articles/842904/\"><span>Как SpaceX нарушила Договор о космосе первым выходом частного астронавта в космос — и почему это хорошо для компании</span></a>,\n",
       " <a class=\"tm-title__link\" data-article-link=\"true\" data-test-id=\"article-snippet-title-link\" href=\"/ru/articles/842882/\"><span>Моделирование атмосферного «циклона» и «смерча» в лабораторных условиях</span></a>,\n",
       " <a class=\"tm-title__link\" data-article-link=\"true\" data-test-id=\"article-snippet-title-link\" href=\"/ru/specials/842562/\"><span>IT с человеческим лицом: портрет типичного программиста — 2024</span></a>,\n",
       " <a class=\"tm-title__link\" data-article-link=\"true\" data-test-id=\"article-snippet-title-link\" href=\"/ru/companies/mclouds/articles/842470/\"><span>Произвел революцию в обработке данных и снялся в фильме: кому достанется коллекционный мейнфрейм IBM 7090</span></a>,\n",
       " <a class=\"tm-title__link\" data-article-link=\"true\" data-test-id=\"article-snippet-title-link\" href=\"/ru/articles/842484/\"><span>Подземный резервуар на Марсе может заполнить океаны на поверхности планеты, говорится в исследовании</span></a>]"
      ]
     },
     "execution_count": 24,
     "metadata": {},
     "output_type": "execute_result"
    }
   ],
   "source": [
    "# Find all links on main page\n",
    "\n",
    "res = requests.get(main_link, headers={'User-Agent': user_agent})\n",
    "bs = BeautifulSoup(res.content, 'html.parser')\n",
    "# print(bs.prettify())\n",
    "links = bs.find_all('a', attrs={'class': 'tm-title__link'})\n",
    "links"
   ]
  },
  {
   "cell_type": "markdown",
   "id": "03416fda-013b-426a-8769-5484bb76989f",
   "metadata": {},
   "source": [
    "# Collect url's from pages and save it to file 'habr_urls.txt'"
   ]
  },
  {
   "cell_type": "code",
   "execution_count": 10,
   "id": "7c2ee745-4a86-48ce-94d0-7fde336efc03",
   "metadata": {},
   "outputs": [
    {
     "data": {
      "text/plain": [
       "['/ru/articles/843302/',\n",
       " '/ru/articles/843292/',\n",
       " '/ru/articles/843224/',\n",
       " '/ru/articles/843278/',\n",
       " '/ru/articles/843238/',\n",
       " '/ru/articles/843234/',\n",
       " '/ru/companies/kaspersky/articles/842244/',\n",
       " '/ru/companies/timeweb/articles/843108/',\n",
       " '/ru/articles/843106/',\n",
       " '/ru/articles/842584/',\n",
       " '/ru/companies/first/articles/843096/',\n",
       " '/ru/articles/842646/',\n",
       " '/ru/companies/ua-hosting/articles/842418/',\n",
       " '/ru/articles/842988/',\n",
       " '/ru/articles/842908/',\n",
       " '/ru/companies/ru_mts/articles/842904/',\n",
       " '/ru/articles/842882/',\n",
       " '/ru/specials/842562/',\n",
       " '/ru/companies/mclouds/articles/842470/',\n",
       " '/ru/articles/842484/']"
      ]
     },
     "execution_count": 10,
     "metadata": {},
     "output_type": "execute_result"
    }
   ],
   "source": [
    "# Get url from html block\n",
    "def clear_links(links):\n",
    "    urls = []\n",
    "    for i in links:\n",
    "        urls.append(i['href'])\n",
    "\n",
    "    return urls\n",
    "\n",
    "clear_links(links)"
   ]
  },
  {
   "cell_type": "code",
   "execution_count": 11,
   "id": "10254301-7ad7-4d75-9224-ba94081e113b",
   "metadata": {},
   "outputs": [],
   "source": [
    "def crawler(url):\n",
    "    res = requests.get(url, headers={'User-Agent': user_agent})\n",
    "    bs = BeautifulSoup(res.content, 'html.parser')\n",
    "    links = bs.find_all('a', attrs={'class': 'tm-title__link'})\n",
    "    return links"
   ]
  },
  {
   "cell_type": "code",
   "execution_count": 36,
   "id": "fda73ca0-4a91-4f29-bfe4-113de9338547",
   "metadata": {},
   "outputs": [],
   "source": [
    "def save_links(links):\n",
    "    with open(links_file, 'a') as f:\n",
    "        links[-1] += '\\n'\n",
    "        f.write('\\n'.join(links))\n",
    "\n",
    "# save_links(clear_links(links))"
   ]
  },
  {
   "cell_type": "code",
   "execution_count": 27,
   "id": "8384365d-a921-4e9f-a958-0f7187ee8cec",
   "metadata": {},
   "outputs": [
    {
     "name": "stdout",
     "output_type": "stream",
     "text": [
      "Total pages: 250\n",
      "[1] url: https://habr.com/ru/hubs/popular_science/articles/page1/\n",
      "[2] url: https://habr.com/ru/hubs/popular_science/articles/page2/\n"
     ]
    }
   ],
   "source": [
    "articles = 5000\n",
    "links_per_page = len(links)\n",
    "amount_of_pages = int(articles / links_per_page)\n",
    "print('Total pages:', amount_of_pages)\n",
    "\n",
    "for i in range(1, amount_of_pages):\n",
    "    url = f'{main_link}page{i}/'\n",
    "    print(f'[{i}] url: {url}')\n",
    "    links = crawler(url)\n",
    "    links = clear_links(links)\n",
    "    save_links(links)\n",
    "    sleep(5)"
   ]
  },
  {
   "cell_type": "markdown",
   "id": "4cdb96a1-43d2-4fc3-bf3a-1fc592b9d402",
   "metadata": {},
   "source": [
    "# Create functions to get pages and store it as json file "
   ]
  },
  {
   "cell_type": "code",
   "execution_count": 39,
   "id": "d292899d-42ed-454c-b8cf-1da2015233d4",
   "metadata": {},
   "outputs": [],
   "source": [
    "# Create folder to store articles as json\n",
    "\n",
    "os.mkdir(dir_name)"
   ]
  },
  {
   "cell_type": "code",
   "execution_count": 33,
   "id": "73c6194c-f85c-4fbb-8f5c-6f9618827c23",
   "metadata": {},
   "outputs": [],
   "source": [
    "# Class, that downloads page and gets some features from it\n",
    "\n",
    "class PageInfo:\n",
    "    def __init__(self, url, user_agent):\n",
    "        self.url = url\n",
    "        self.res = requests.get(self.url, headers={'User-Agent': user_agent})\n",
    "        self.bs = BeautifulSoup(self.res.content, 'html.parser')\n",
    "        \n",
    "    def get_title(self):\n",
    "        return self.bs.title.text\n",
    "\n",
    "    def get_tags(self):\n",
    "        tags = self.bs.find_all('span', attrs={'class': 'tm-publication-hub__link-container'})\n",
    "        tags = [i.text for i in tags]\n",
    "        return tags\n",
    "\n",
    "    def get_read_time(self):\n",
    "        read_time = self.bs.find('span', attrs={'class': 'tm-article-reading-time__label'})\n",
    "        return read_time.text\n",
    "\n",
    "    def get_number_of_views(self):\n",
    "        number_of_views = self.bs.find('span', attrs={'class': 'tm-icon-counter__value'})\n",
    "        return number_of_views.text\n",
    "\n",
    "    def get_date(self):\n",
    "        date = self.bs.find('time')\n",
    "        return date['title']\n",
    "\n",
    "    def get_amount_of_images(self):\n",
    "        dom = etree.HTML(self.res.content)\n",
    "        imgs = dom.xpath('//*[@id=\"post-content-body\"]/div/div/div/img')\n",
    "        return len(imgs)\n",
    "\n",
    "    def get_comments(self):\n",
    "        comments = self.bs.find('span', attrs={'class': 'tm-article-comments-counter-link__value'})\n",
    "        return comments.text\n",
    "\n",
    "    def get_bookmarks(self):\n",
    "        bookmark = self.bs.find('span', attrs={'class': 'bookmarks-button__counter'})\n",
    "        return bookmark.text\n",
    "\n",
    "    def get_votes(self):\n",
    "        votes = self.bs.find('span', attrs={'class': 'tm-votes-meter__value'})\n",
    "        if votes == None:\n",
    "            return 0\n",
    "        return votes.text\n",
    "\n",
    "    def get_text(self):\n",
    "        text = self.bs.find('div', attrs={'class': 'tm-article-body'})\n",
    "        return text.text.strip()\n",
    "\n",
    "    def get_json(self):\n",
    "        tags = self.get_tags()\n",
    "        return json.dumps({'url': self.url,\n",
    "               'title': self.get_title(),\n",
    "               'theme': tags[0] if len(tags) > 0 else '',\n",
    "               'tags': tags,\n",
    "               'read_time': self.get_read_time(),\n",
    "               'number_of_views': self.get_number_of_views(),\n",
    "               'date': self.get_date(),\n",
    "               'amount_of_imgs': self.get_amount_of_images(),\n",
    "               'comments': self.get_comments(),\n",
    "               'bookmark': self.get_bookmarks(),\n",
    "               'votes': self.get_votes(),\n",
    "               'text': self.get_text()})\n"
   ]
  },
  {
   "cell_type": "code",
   "execution_count": 34,
   "id": "75c26e8f-ed68-4c2c-b738-cab3ac73f464",
   "metadata": {},
   "outputs": [
    {
     "data": {
      "text/plain": [
       "{'url': 'https://habr.com/ru/companies/timeweb/articles/687076/',\n",
       " 'title': 'Настолки Древней Руси / Хабр',\n",
       " 'theme': 'Блог компании Timeweb Cloud',\n",
       " 'tags': ['Блог компании Timeweb Cloud',\n",
       "  'Разработка игр*',\n",
       "  'Научно-популярное',\n",
       "  'Игры и игровые консоли',\n",
       "  'Логические игры'],\n",
       " 'read_time': '7 мин',\n",
       " 'number_of_views': '21K',\n",
       " 'date': '2022-09-17, 16:38',\n",
       " 'amount_of_imgs': 15,\n",
       " 'comments': '20',\n",
       " 'bookmark': '58',\n",
       " 'votes': '+59',\n",
       " 'text': 'В продолжение темы древних игр (Во что поиграть, если шахматы ещё не придумали, а ты фараон/викинг/вождь майя), я решила узнать, во что играли в Древней Руси. \\n\\nПод катом фотки, правила и ссылочки на браузерные версии «монополий» и «три в ряд» времен средневековой Руси.\\n\\nЯ веду канал в Telegram GameDEVils и блог на Substack . Подписывайтесь, я делюсь там материалами про геймдизайн, разработку и историю игр. \\n\\nИгры в кости\\nБояре Владимира Святославича мечут жребий для определения жертвы языческим богам. Миниатюра радзивилловской летописи, кон. XV в.:\\n\\n\\nДа, самые древние игры были не супер-интеллектуальными. Сначала для игры в кости использовали кости животных. Не в смысле как материал для вытачивания кубика, а прям кость (игры в «лодыжки», «костыги», «козули»).\\n\\nПосле принятия христианства на Руси Церковь объявила игры занятием не богоугодным. Запрет на игры — вообще мировой тренд средневековья. И не безосновательно, так как игры в основном были азартными, их сопровождали жульничество и пьянство. \\n\\nНо российских крестьян это не остановило. Записи обличительных речей проповедников это подтверждают.\\n\\nИ о турех, и о лодыгах, и о колядницех, и про беззаконный быт вы, попове, уимайте детей своих «Поучение св. Ильи», 12 в.).\\nЗернь костарная\\n\\nМангазея (Западная Сибирь), XVII в.\\n\\nЭто самый популярный вариант игры в кости 16-17 вв… \\n\\nВот типичная жалоба от местного воеводы «на самый верх»: служилые люди «проигрываются зернью, оружье и платье с себя проигрався, с Красного Яру бегают», что они «от тое зерни обнищали, стали наги и босы и на … государевы службы подниматься нечем….и что… государево хлебное жалованье давано, и то на зерни испродавали». \\nСвода правил археологи пока не нашли, но некоторые предполагают, что правила зерни должны быть похожи на арабскую средневековыую игру «Азар», (правила).\\n\\nИзвестное название игральной кости – зарик или зар, также связано с арабским «аль-захр» (игральная кость).\\nИзвестно как минимум две похожие игры в кости, которые были раньше зерни – это «Быки» и «Лодыги».\\n\\nБыки\\n\\n\\nСам процесс называли «Катать быков». Каждый игрок выкидывал 4 лодыжки. Если лодыжка падала вогнутым боком вверх, это называлось «упасть быком», это давала одного быка, одно игровое очко. Падение лодыжки выпуклой поверхностью — «маслом» вверх засчитывалось как два быка. Если косточка падала ровным боком вверх, то приносила половину быка. Бок лодыжки с самой глубокой ямкой назывался «горе», т. к. он не давал очков. \\n\\nИгроки считали количество выкинутых быков. Тот, у кого было больше всего быков, забирал себе все выброшенные кости. Затем косточки можно было обменять на деньги. Пара лодыжек стоила от 0,5 до 1 копейки.\\n\\nЛодыги\\nКаждый игрок начинал игру с одинаковым количеством лодыжек. Обычно общее количество лодыжек не превышало 40-50 штук. Лодыжки каждого игрока были окрашены в свой цвет. \\n\\nОдин из игроков, по договорённости или по жребию, бросал все кости на стол и забирал себе те лодыжки, что упали выигрышной стороной вверх. После этого ход переходил к следующему игроку, он бросал оставшиеся лодыжки, забирал себе те, что упали выигрышной стороной и так по кругу. Разыграв все лодыжки, игроки могли снова выставить их в игру. Те, у кого лодыжки кончались, выходили из игры. \\n\\nВ конце игры лодыжки или возвращали их владельцам, или победители хранили их в качестве выигрыша до следующей игры.\\n\\nЕсть еще несколько вариаций названий игры: лодыжки, альчики, асычки, бабки, стрекачи, жёжки. Похожая игра у бурятских народов называется «Шагай наадан».\\n\\n\\n\\nЯ нашла на ЖЖ описание игры Лодыжки , в ней вместо просто бросков всех лодыжек на поле, игроки стараются выбить косточки, лежащие одинаковой стороной вверх. \\n\\nРусские крестьяне с помощью игры в кости бросали жребий для решения споров, к примеру, при разделе земли.\\n\\nНовгородские доски или славянская Дальдоза\\n\\n\\nАрхеолог Андрей Гринев описывает несколько таких досок как игровые. \\n\\n\\n\\nПравил для новгородских досок не нашли. Визуально доски больше всего напоминают доски для дальдозы, археологи считают, что это славянская адаптация или саамской игры сахкку или скандинавской игры дальдоз (далдос).\\n\\nВот на Vc.ru кейс, как начинающие игроделы сделали дальдозу для Steam и даже немножко заработали на ней.\\n\\nПо итогам было продано 65 игр на общую сумму около $230. Это полностью органическая прибыль, так как со своей стороны мы не занимались дополнительным продвижением проекта.\\nРеконструкция правил\\nФишки выставляют в два ряда друг напротив друга, (неясно, на пересечении линий или между линиями). Затем, игроки бросают кости и активируют фишки, если выпадает «А»: поворачивают фишку плоской стороной вдоль ряда и перемещают на одно отверстие вперёд.\\n\\nИгроки перемещают активированные фишки на выпавшее количество шагов, по своему ряду в сторону «кормы» (не закруглённого края доски), затем по среднему ряду в сторону «носа», затем по ряду соперника в сторону «кормы». Далее игрок может по кругу перемещать фишки по среднему ряду и ряду противника, пока фишку не срубит соперник или пока игра не кончится. В свой ряд фишка не возвращается.\\n\\nЕсли фишка наступает на ячейку, где стоит фишка противника, то фишка противника снимается с поля и больше не возвращается в игру. Переместить фишку в ячейку, которая уже занята другое своей фишкой игрок не может. Побеждает тот, кто первый срубит все фишки соперника. \\n\\nВот ссылка, чтобы поиграть онлайн в Датскую дальдозу на 16 фишек.\\n\\nТавлеи\\nСамое ранее упоминание слова «тавлеи» это сборник XI «Пчела»:\\n\\n\\n«тавлеи и шахы въ многихъ насъ ωбртаѣми сѹть, а книги ни въ кого же»\\n\\nВот тавлеи и шахматы у многих из вас можно найти, а книг ни у кого.\\n«Пчела» — сборник изречений IX века византийского происхождения. В оригинале вместо «тавлеи» использовано слово πεττείαις или «петтейя». А это древнегреческая игра, о которой кое-что известно. Есть предположение, что тавлеи — это аналог позднеримской табулы.\\n\\nВ разных регионах Древней Руси значение слова «тавлеи» отличалось. Очень вероятно тавлеями называли просто игровые доски.\\n\\n«Тавлеи золоченые» упоминаются в былинах новгородского цикла. Например, богатырь Михайло Потык хвастается, что выиграл золотую казну у поганого царя Вахрамея Вахрамеевича. \\nКак играли в «тавлеи золоченые» установить сложно, но в большинство реконструкций археологи сводят к хнефатафлу, а хнефтафл реконструируют по таблуту. \\n\\nХнефатафл\\nДоска для хнефатафла XII в. с фигурами XIII в. Тронхейм, Норвегия:\\n\\n\\n\\nПохожие игровые доски находили в Шестовицах, Гнездово, Чернигове и Старой Ладоге. Игральная доска. Старая ладога, IX–X вв.:\\n\\n\\n\\nИз-за похожих досок и фигур тавлеи многие археологи считают славянской версией тафла.\\n\\nЦель белых во всех играх семейства тафл — доставить короля на периферию или углы доски, а целью черных — поймать его. Размер доски и количество фигур отличается, но во всех играх используют соотношение фигур 2: 1, причем меньшее количество фигур сражаются на стороне короля, и начинают в центре. Правила одной из игр семейства тафл «Таблут, записал в 1732 году Карл Линней, путешествуя по Лапландии. \\n\\nРисунок поля для таблута и правила игры. Рукопись Лапландского дневника Карла Линнея, 1732 г.:\\n\\n\\n\\nТаблут, вероятно, произошел от хнефатафла, в который играли на досках с нечетным количеством клеток (размером от 7х7 до 19х19) в эпоху викингов (850–1050). Первые следы игры хнефатафл пришли из Дании 4 века, откуда он распространился в Англию с викингами и в Россию и Украину с варягами.\\n\\nДругие варианты, такие, как tawl-brrd и alea evangelii, описаны лишь в нескольких документах и \\u200b\\u200bих реконструкции могут иметь исторические неточности.\\n\\n\\n\\nПравила игры. Поиграть в webTablut или в Hnefatafl онлайн.\\n\\nЕсли кому интересно подробнее, вот лекция «Настольные игры в Скандинавии и Древней Руси» Дмитрия Пашкова. Он руководит издательством исторических настолок «Ethnic Board Games».\\n\\n\\nТаврели?\\nНет, не таврели. Таврели (от «тавро» — клеймо, изображение), они же «русские шахматы». В интернетах на разных маргинальных сайтах пишут, что на Черниговщине археологи нашли множество изделий для игры в таврели, датированных IX — X в., а упоминание об этой игре встречаются в былинах о Владимире Красном Солнышке и Садко. Только вот я не нашла ни одного фото с археологических раскопок. Либо такие фото лежат на еще более маргинальных сайтах, либо я не знаю. Но механика забавная, так что расскажу. \\n\\nИгра в таврели ведется на обычной шахматной доске, фигуры имеют следующие названия:\\n\\n\\nкороль – волхв;\\nферзь – князь;\\nладья – ратоборец;\\nслон – лучник;\\nконь – всадник;\\nпешка – ратник;\\nхелги — дополнительная фигура.\\n\\nХелги — самая сильная фигура, обладающая свойствами князя и всадника (ферзя и коня). В хелги превращается ратник (пешка), стоящая перед волхвом и дошедшая до последней горизонтали. Фигуры ходят также, как и в классических шахматах. Основное отличие в том, что фигуры не убирают с доски, как в классических шахматах, а «берут в плен», ставя свою фигуру сверху. \\n\\nПодробнее про правила можно почитать тут или тут.\\n\\nИз онлайн вариантов я нашла только эту программку (автор: Сергей Нестеров — aka Astrolf, 2008), и этот сервис для игры по сети с реальными людьми, но там требуют регистрироваться.\\n\\nМельница\\nТри в ряд древнего и средневекового мира. Мельница упоминается в Китае за 500 лет д. н. э. Поле для игры в мельницу было вырезана в храме в Курне (Египет) 1400 лет д. н. э. и на корабле викингов X в. Доски для этой игры нашли на Цейлоне (9- гг. н.э.), в греческих Афинах, в захоронениях бронзового века в Исландии. Поле для игры было вырезано на корабле викингов X в. Gokstad’е.\\n\\nИгра была популярна как в Средневековой Европе, так и на Руси. С IX—X вв. она была распространена в Старой Ладоге, Новгороде, Пскове, Старой Рязани. Другое название игры «Девять пляшущих мужчин».\\n\\nМного клёвых фоток в этой статье я взяла с сайта проекта «Зело». К примеру, вот их публикация про игру Мельница.\\n\\nДоски для игры в мельницу. Новгородский музей-заповедник.\\n\\n1. XI в.\\n\\n\\n\\n2. XII в.:\\n\\n\\n\\n3. XIII в.:\\n\\n\\n\\n4. втор. пол. XIII –пер. пол. XIVв.:\\n\\n\\n\\nВ классическом варианте игры у каждого игрока есть по 9 фишек. Игра начинается с установки их на поле. Игроки по очереди ставят по одной фишке на любую не занятую точку. Если в процессе выставления фишек один из игроков встраивает три фишки в ряд, он «построил мельницу» и может убрать одну фишку противника, кроме тех, которые входят в мельницы противника. После выставления фишек, игроки по очереди двигают фишки. Передвигать фишки можно на любую свободную соседнюю точку. Игрок, который не может сделать ход – проигрывает. \\n\\nЕсть два варианта правил:\\n\\n\\nстандартный – строишь ряд, «ешь фишку противника», убираешь из своего ряда одну фишку, возвращаешь ее обратно и опять «ешь» фишку противника; повторять можно до бесконечности.\\nпостроив один ряд и «съев» с его помощью фишку противника, больше «есть» им нельзя; нужно строить другой ряд, по другим точкам. Этот вариант используют, когда играют на доске с диагональными рядами.\\n\\nИгрок проигрывает, если у него остается 2 фишки и он не может построить «мельницу». Игрок может проиграть на этапе расстановки фишек, если соперник заблокирует все его фишки.\\n\\nМожно поиграть онлайн \\nтут, стандартный вариант правил, когда можно строить мельницу на одном и том же месте несколько раз и снимать за это фишки.\\n\\n\\nЕще про игры: \\n\\n\\n10 принципов хорошего левел дизайна \\nВо что поиграть, если шахматы ещё не придумали, а ты фараон / викинг / вождь майя \\n15 игр, которые прокачивают логику, алгоритмы, ассемблер и силу земли \\nЕщё 20+ игр, которые прокачивают логику, алгоритмы и радуют умный мозг\\nИграйте в хакера безопасно: 20+ игр, чтобы почувствовать себя хацкером и не призвать ФСБ\\n20 игр, чтобы видеть детали, чувствовать нюансы и уловить смысл дизайна\\n\\n\\nЕсли было интересно, подписывайтесь на мой канал в Telegram с находками про разработку игр, историю игр и геймдизайн: GameDevils (на русском) и блог на Substack  (на английском).'}"
      ]
     },
     "execution_count": 34,
     "metadata": {},
     "output_type": "execute_result"
    }
   ],
   "source": [
    "# Test class\n",
    "page = PageInfo('https://habr.com/ru/companies/timeweb/articles/687076/', user_agent)\n",
    "json.loads(page.get_json())"
   ]
  },
  {
   "cell_type": "markdown",
   "id": "89230f7c-964f-4d3c-854e-68a987d2bea4",
   "metadata": {},
   "source": [
    "# Parser"
   ]
  },
  {
   "cell_type": "code",
   "execution_count": 40,
   "id": "07621aea-1435-4b6a-9e99-618157d292ad",
   "metadata": {},
   "outputs": [],
   "source": [
    "# Read all links from file\n",
    "\n",
    "links = []\n",
    "with open(links_file, 'r') as f:\n",
    "    a = f.read()\n",
    "    links = a.split('\\n')\n",
    "links = links[:-1]"
   ]
  },
  {
   "cell_type": "code",
   "execution_count": 47,
   "id": "2302ecfe-36a7-4273-a971-04f88d5a9dcc",
   "metadata": {},
   "outputs": [
    {
     "name": "stdout",
     "output_type": "stream",
     "text": [
      "[0] Load: https://habr.com/ru/articles/843302/\n",
      "[1] Load: https://habr.com/ru/articles/843292/\n",
      "[2] Load: https://habr.com/ru/articles/843224/\n",
      "[3] Load: https://habr.com/ru/articles/843278/\n",
      "[4] Load: https://habr.com/ru/articles/843238/\n"
     ]
    },
    {
     "ename": "KeyboardInterrupt",
     "evalue": "",
     "output_type": "error",
     "traceback": [
      "\u001b[0;31m---------------------------------------------------------------------------\u001b[0m",
      "\u001b[0;31mKeyboardInterrupt\u001b[0m                         Traceback (most recent call last)",
      "Cell \u001b[0;32mIn[47], line 10\u001b[0m\n\u001b[1;32m      8\u001b[0m \u001b[38;5;28;01mwith\u001b[39;00m \u001b[38;5;28mopen\u001b[39m(file_names\u001b[38;5;241m.\u001b[39mformat(i[\u001b[38;5;241m0\u001b[39m]), \u001b[38;5;124m'\u001b[39m\u001b[38;5;124mw\u001b[39m\u001b[38;5;124m'\u001b[39m) \u001b[38;5;28;01mas\u001b[39;00m f:\n\u001b[1;32m      9\u001b[0m     f\u001b[38;5;241m.\u001b[39mwrite(page\u001b[38;5;241m.\u001b[39mget_json())\n\u001b[0;32m---> 10\u001b[0m     \u001b[43msleep\u001b[49m\u001b[43m(\u001b[49m\u001b[38;5;241;43m0.5\u001b[39;49m\u001b[43m)\u001b[49m\n",
      "\u001b[0;31mKeyboardInterrupt\u001b[0m: "
     ]
    }
   ],
   "source": [
    "# Download page by page and save it to json\n",
    "\n",
    "for i in enumerate(links):\n",
    "    url = base_url + i[1]\n",
    "    print(f'[{i[0]}] Load: {url}')\n",
    "    page = PageInfo(url, user_agent)\n",
    "    \n",
    "    with open(file_names.format(i[0]), 'w') as f:\n",
    "        f.write(page.get_json())\n",
    "        sleep(0.5)"
   ]
  },
  {
   "cell_type": "markdown",
   "id": "bb70c746-b693-4135-b6dd-2fc9b9326c63",
   "metadata": {},
   "source": [
    "# Create dataset"
   ]
  },
  {
   "cell_type": "code",
   "execution_count": 48,
   "id": "62ae89f6-553e-451c-a001-2a449e50710a",
   "metadata": {},
   "outputs": [
    {
     "data": {
      "text/plain": [
       "['page2.txt', 'page0.txt', 'page4.txt', 'page3.txt', 'page1.txt']"
      ]
     },
     "execution_count": 48,
     "metadata": {},
     "output_type": "execute_result"
    }
   ],
   "source": [
    "os.listdir(dir_name)"
   ]
  },
  {
   "cell_type": "code",
   "execution_count": 51,
   "id": "7142e442-8460-41f2-b069-4aafd9fba913",
   "metadata": {},
   "outputs": [],
   "source": [
    "# Upload files function\n",
    "\n",
    "def get_json(id):\n",
    "    with open(file_names.format(id), 'r') as f:\n",
    "        return json.loads(f.read())"
   ]
  },
  {
   "cell_type": "code",
   "execution_count": 55,
   "id": "53894bf8-ed7d-44a5-aede-0bb1460082a7",
   "metadata": {},
   "outputs": [],
   "source": [
    "files = os.listdir(dir_name)\n",
    "amount_of_files = len(files)\n",
    "pages = [get_json(i) for i in range(amount_of_files)]"
   ]
  },
  {
   "cell_type": "code",
   "execution_count": 58,
   "id": "74bac6de-c4e7-48f0-8a2d-cad6866cc3c5",
   "metadata": {},
   "outputs": [
    {
     "name": "stdout",
     "output_type": "stream",
     "text": [
      "<class 'pandas.core.frame.DataFrame'>\n",
      "RangeIndex: 5 entries, 0 to 4\n",
      "Data columns (total 12 columns):\n",
      " #   Column           Non-Null Count  Dtype \n",
      "---  ------           --------------  ----- \n",
      " 0   url              5 non-null      object\n",
      " 1   title            5 non-null      object\n",
      " 2   theme            5 non-null      object\n",
      " 3   tags             5 non-null      object\n",
      " 4   read_time        5 non-null      object\n",
      " 5   number_of_views  5 non-null      object\n",
      " 6   date             5 non-null      object\n",
      " 7   amount_of_imgs   5 non-null      int64 \n",
      " 8   comments         5 non-null      object\n",
      " 9   bookmark         5 non-null      object\n",
      " 10  votes            5 non-null      int64 \n",
      " 11  text             5 non-null      object\n",
      "dtypes: int64(2), object(10)\n",
      "memory usage: 608.0+ bytes\n"
     ]
    }
   ],
   "source": [
    "# Create Dataframe\n",
    "\n",
    "df = pd.DataFrame(pages)\n",
    "df.info()"
   ]
  },
  {
   "cell_type": "code",
   "execution_count": 59,
   "id": "1a47b97a-1373-49b9-a1ff-e65ad4687c53",
   "metadata": {},
   "outputs": [],
   "source": [
    "df = df.drop_duplicates(subset=['url'])"
   ]
  },
  {
   "cell_type": "code",
   "execution_count": 62,
   "id": "c44c988a-de3c-4866-8b47-05d7c8bd7e8e",
   "metadata": {},
   "outputs": [],
   "source": [
    "# Convert numerical data to int\n",
    "\n",
    "df['number_of_views'] = df['number_of_views'].map(lambda x: x if not 'K' in x else float(x[:-1]) * 1000)\n",
    "df['read_time'] = df['read_time'].map(lambda x: x[:-4])\n",
    "df = df.astype({i:np.int32 for i in ['amount_of_imgs', 'comments', 'bookmark', 'votes', 'number_of_views', 'read_time']})\n",
    "df['date'] = pd.to_datetime(df['date'])"
   ]
  },
  {
   "cell_type": "code",
   "execution_count": 63,
   "id": "8a2677ee-e858-47d5-8fab-e8f1ef387e6f",
   "metadata": {},
   "outputs": [],
   "source": [
    "# Save dataset\n",
    "\n",
    "df.to_csv('habr_dataset.csv', index=False)"
   ]
  },
  {
   "cell_type": "markdown",
   "id": "175487ca-bb28-4e39-828a-90c7a5eb634d",
   "metadata": {},
   "source": [
    "# Upload dataset"
   ]
  },
  {
   "cell_type": "code",
   "execution_count": 3,
   "id": "050cd326-2073-47b6-bfd5-823170f67bf0",
   "metadata": {},
   "outputs": [],
   "source": [
    "df = pd.read_csv('habr_dataset.csv')\n",
    "df['date'] = pd.to_datetime(df['date'])"
   ]
  },
  {
   "cell_type": "code",
   "execution_count": 66,
   "id": "edba8ecb-0281-4d2d-b5e3-823b2debf166",
   "metadata": {},
   "outputs": [
    {
     "data": {
      "text/html": [
       "<div>\n",
       "<style scoped>\n",
       "    .dataframe tbody tr th:only-of-type {\n",
       "        vertical-align: middle;\n",
       "    }\n",
       "\n",
       "    .dataframe tbody tr th {\n",
       "        vertical-align: top;\n",
       "    }\n",
       "\n",
       "    .dataframe thead th {\n",
       "        text-align: right;\n",
       "    }\n",
       "</style>\n",
       "<table border=\"1\" class=\"dataframe\">\n",
       "  <thead>\n",
       "    <tr style=\"text-align: right;\">\n",
       "      <th></th>\n",
       "      <th>url</th>\n",
       "      <th>title</th>\n",
       "      <th>theme</th>\n",
       "      <th>tags</th>\n",
       "      <th>read_time</th>\n",
       "      <th>number_of_views</th>\n",
       "      <th>date</th>\n",
       "      <th>amount_of_imgs</th>\n",
       "      <th>comments</th>\n",
       "      <th>bookmark</th>\n",
       "      <th>votes</th>\n",
       "      <th>text</th>\n",
       "    </tr>\n",
       "  </thead>\n",
       "  <tbody>\n",
       "    <tr>\n",
       "      <th>0</th>\n",
       "      <td>https://habr.com/ru/articles/842474/</td>\n",
       "      <td>На Alibaba можно купить станок для изготовлени...</td>\n",
       "      <td>Научно-популярное</td>\n",
       "      <td>['Научно-популярное', 'Физика']</td>\n",
       "      <td>4</td>\n",
       "      <td>2800</td>\n",
       "      <td>2024-09-11 14:58:00</td>\n",
       "      <td>0</td>\n",
       "      <td>4</td>\n",
       "      <td>3</td>\n",
       "      <td>0</td>\n",
       "      <td>Производство бриллиантов стало дешевле, чем ко...</td>\n",
       "    </tr>\n",
       "    <tr>\n",
       "      <th>1</th>\n",
       "      <td>https://habr.com/ru/articles/842336/</td>\n",
       "      <td>Учёные, искавшие жизнь на Марсе, услышали сигн...</td>\n",
       "      <td>Научно-популярное</td>\n",
       "      <td>['Научно-популярное', 'Астрономия']</td>\n",
       "      <td>8</td>\n",
       "      <td>1600</td>\n",
       "      <td>2024-09-11 13:38:00</td>\n",
       "      <td>0</td>\n",
       "      <td>1</td>\n",
       "      <td>2</td>\n",
       "      <td>0</td>\n",
       "      <td>В 1924 году радиоприёмник, созданный для полей...</td>\n",
       "    </tr>\n",
       "    <tr>\n",
       "      <th>2</th>\n",
       "      <td>https://habr.com/ru/companies/montirey/article...</td>\n",
       "      <td>Проявление свойств эфира: доказано эксперимент...</td>\n",
       "      <td>Блог компании Мон Тирэй</td>\n",
       "      <td>['Блог компании Мон Тирэй', 'Научно-популярное...</td>\n",
       "      <td>7</td>\n",
       "      <td>3700</td>\n",
       "      <td>2024-09-11 11:24:00</td>\n",
       "      <td>0</td>\n",
       "      <td>44</td>\n",
       "      <td>5</td>\n",
       "      <td>0</td>\n",
       "      <td>Исследования российских учёных подтвердили сущ...</td>\n",
       "    </tr>\n",
       "    <tr>\n",
       "      <th>3</th>\n",
       "      <td>https://habr.com/ru/companies/timeweb/articles...</td>\n",
       "      <td>Деннис Макалистэйр Ритчи. Между Unix и С / Хабр</td>\n",
       "      <td>Блог компании Timeweb Cloud</td>\n",
       "      <td>['Блог компании Timeweb Cloud', 'Читальный зал...</td>\n",
       "      <td>18</td>\n",
       "      <td>1300</td>\n",
       "      <td>2024-09-11 11:05:00</td>\n",
       "      <td>0</td>\n",
       "      <td>0</td>\n",
       "      <td>11</td>\n",
       "      <td>0</td>\n",
       "      <td>Создатель.Точнее всего описывает Денниса Ритчи...</td>\n",
       "    </tr>\n",
       "    <tr>\n",
       "      <th>4</th>\n",
       "      <td>https://habr.com/ru/articles/842324/</td>\n",
       "      <td>Болезнь Альцгеймера может оказаться аутоиммунн...</td>\n",
       "      <td>Научно-популярное</td>\n",
       "      <td>['Научно-популярное', 'Мозг', 'Здоровье']</td>\n",
       "      <td>4</td>\n",
       "      <td>840</td>\n",
       "      <td>2024-09-11 10:49:00</td>\n",
       "      <td>0</td>\n",
       "      <td>0</td>\n",
       "      <td>4</td>\n",
       "      <td>0</td>\n",
       "      <td>Поиски лекарства от болезни Альцгеймера станов...</td>\n",
       "    </tr>\n",
       "    <tr>\n",
       "      <th>...</th>\n",
       "      <td>...</td>\n",
       "      <td>...</td>\n",
       "      <td>...</td>\n",
       "      <td>...</td>\n",
       "      <td>...</td>\n",
       "      <td>...</td>\n",
       "      <td>...</td>\n",
       "      <td>...</td>\n",
       "      <td>...</td>\n",
       "      <td>...</td>\n",
       "      <td>...</td>\n",
       "      <td>...</td>\n",
       "    </tr>\n",
       "    <tr>\n",
       "      <th>4333</th>\n",
       "      <td>https://habr.com/ru/companies/ua-hosting/artic...</td>\n",
       "      <td>Ритм на кончиках пальцев: считывание сигналов ...</td>\n",
       "      <td>Блог компании ua-hosting.company</td>\n",
       "      <td>['Блог компании ua-hosting.company', 'Научно-п...</td>\n",
       "      <td>13</td>\n",
       "      <td>2100</td>\n",
       "      <td>2021-08-11 15:21:00</td>\n",
       "      <td>6</td>\n",
       "      <td>0</td>\n",
       "      <td>20</td>\n",
       "      <td>13</td>\n",
       "      <td>Мы воспринимаем окружающий мир посредством наб...</td>\n",
       "    </tr>\n",
       "    <tr>\n",
       "      <th>4334</th>\n",
       "      <td>https://habr.com/ru/articles/572266/</td>\n",
       "      <td>Фомальгаут / Хабр</td>\n",
       "      <td>Научно-популярное</td>\n",
       "      <td>['Научно-популярное', 'Астрономия']</td>\n",
       "      <td>4</td>\n",
       "      <td>17000</td>\n",
       "      <td>2021-08-10 23:56:00</td>\n",
       "      <td>7</td>\n",
       "      <td>20</td>\n",
       "      <td>37</td>\n",
       "      <td>47</td>\n",
       "      <td>Альфа Южной рыбы\\n\\n\\nУвидеть Фомальгаут в Мос...</td>\n",
       "    </tr>\n",
       "    <tr>\n",
       "      <th>4335</th>\n",
       "      <td>https://habr.com/ru/articles/572046/</td>\n",
       "      <td>Морской чёртик и морской ангел / Хабр</td>\n",
       "      <td>Научно-популярное</td>\n",
       "      <td>['Научно-популярное', 'Биология']</td>\n",
       "      <td>5</td>\n",
       "      <td>9400</td>\n",
       "      <td>2021-08-10 21:52:00</td>\n",
       "      <td>0</td>\n",
       "      <td>7</td>\n",
       "      <td>11</td>\n",
       "      <td>11</td>\n",
       "      <td>Минуточку внимания:Как-то так получается, что ...</td>\n",
       "    </tr>\n",
       "    <tr>\n",
       "      <th>4336</th>\n",
       "      <td>https://habr.com/ru/companies/ruvds/articles/5...</td>\n",
       "      <td>Ретротехнологии. Нувистор – последнее слово в ...</td>\n",
       "      <td>Блог компании RUVDS.com</td>\n",
       "      <td>['Блог компании RUVDS.com', 'Производство и ра...</td>\n",
       "      <td>3</td>\n",
       "      <td>17000</td>\n",
       "      <td>2021-08-10 20:00:00</td>\n",
       "      <td>0</td>\n",
       "      <td>34</td>\n",
       "      <td>40</td>\n",
       "      <td>40</td>\n",
       "      <td>Статья посвящена многим неизвестному типу ради...</td>\n",
       "    </tr>\n",
       "    <tr>\n",
       "      <th>4337</th>\n",
       "      <td>https://habr.com/ru/articles/572122/</td>\n",
       "      <td>5 способов пересечь Океан Времени / Хабр</td>\n",
       "      <td>Научно-популярное</td>\n",
       "      <td>['Научно-популярное', 'Космонавтика', 'Научная...</td>\n",
       "      <td>12</td>\n",
       "      <td>9700</td>\n",
       "      <td>2021-08-10 12:48:00</td>\n",
       "      <td>13</td>\n",
       "      <td>95</td>\n",
       "      <td>38</td>\n",
       "      <td>18</td>\n",
       "      <td>Существует по меньшей мере 5 способов достигну...</td>\n",
       "    </tr>\n",
       "  </tbody>\n",
       "</table>\n",
       "<p>4338 rows × 12 columns</p>\n",
       "</div>"
      ],
      "text/plain": [
       "                                                    url  \\\n",
       "0                  https://habr.com/ru/articles/842474/   \n",
       "1                  https://habr.com/ru/articles/842336/   \n",
       "2     https://habr.com/ru/companies/montirey/article...   \n",
       "3     https://habr.com/ru/companies/timeweb/articles...   \n",
       "4                  https://habr.com/ru/articles/842324/   \n",
       "...                                                 ...   \n",
       "4333  https://habr.com/ru/companies/ua-hosting/artic...   \n",
       "4334               https://habr.com/ru/articles/572266/   \n",
       "4335               https://habr.com/ru/articles/572046/   \n",
       "4336  https://habr.com/ru/companies/ruvds/articles/5...   \n",
       "4337               https://habr.com/ru/articles/572122/   \n",
       "\n",
       "                                                  title  \\\n",
       "0     На Alibaba можно купить станок для изготовлени...   \n",
       "1     Учёные, искавшие жизнь на Марсе, услышали сигн...   \n",
       "2     Проявление свойств эфира: доказано эксперимент...   \n",
       "3       Деннис Макалистэйр Ритчи. Между Unix и С / Хабр   \n",
       "4     Болезнь Альцгеймера может оказаться аутоиммунн...   \n",
       "...                                                 ...   \n",
       "4333  Ритм на кончиках пальцев: считывание сигналов ...   \n",
       "4334                                  Фомальгаут / Хабр   \n",
       "4335              Морской чёртик и морской ангел / Хабр   \n",
       "4336  Ретротехнологии. Нувистор – последнее слово в ...   \n",
       "4337           5 способов пересечь Океан Времени / Хабр   \n",
       "\n",
       "                                 theme  \\\n",
       "0                    Научно-популярное   \n",
       "1                    Научно-популярное   \n",
       "2              Блог компании Мон Тирэй   \n",
       "3          Блог компании Timeweb Cloud   \n",
       "4                    Научно-популярное   \n",
       "...                                ...   \n",
       "4333  Блог компании ua-hosting.company   \n",
       "4334                 Научно-популярное   \n",
       "4335                 Научно-популярное   \n",
       "4336           Блог компании RUVDS.com   \n",
       "4337                 Научно-популярное   \n",
       "\n",
       "                                                   tags  read_time  \\\n",
       "0                       ['Научно-популярное', 'Физика']          4   \n",
       "1                   ['Научно-популярное', 'Астрономия']          8   \n",
       "2     ['Блог компании Мон Тирэй', 'Научно-популярное...          7   \n",
       "3     ['Блог компании Timeweb Cloud', 'Читальный зал...         18   \n",
       "4             ['Научно-популярное', 'Мозг', 'Здоровье']          4   \n",
       "...                                                 ...        ...   \n",
       "4333  ['Блог компании ua-hosting.company', 'Научно-п...         13   \n",
       "4334                ['Научно-популярное', 'Астрономия']          4   \n",
       "4335                  ['Научно-популярное', 'Биология']          5   \n",
       "4336  ['Блог компании RUVDS.com', 'Производство и ра...          3   \n",
       "4337  ['Научно-популярное', 'Космонавтика', 'Научная...         12   \n",
       "\n",
       "      number_of_views                 date  amount_of_imgs  comments  \\\n",
       "0                2800  2024-09-11 14:58:00               0         4   \n",
       "1                1600  2024-09-11 13:38:00               0         1   \n",
       "2                3700  2024-09-11 11:24:00               0        44   \n",
       "3                1300  2024-09-11 11:05:00               0         0   \n",
       "4                 840  2024-09-11 10:49:00               0         0   \n",
       "...               ...                  ...             ...       ...   \n",
       "4333             2100  2021-08-11 15:21:00               6         0   \n",
       "4334            17000  2021-08-10 23:56:00               7        20   \n",
       "4335             9400  2021-08-10 21:52:00               0         7   \n",
       "4336            17000  2021-08-10 20:00:00               0        34   \n",
       "4337             9700  2021-08-10 12:48:00              13        95   \n",
       "\n",
       "      bookmark  votes                                               text  \n",
       "0            3      0  Производство бриллиантов стало дешевле, чем ко...  \n",
       "1            2      0  В 1924 году радиоприёмник, созданный для полей...  \n",
       "2            5      0  Исследования российских учёных подтвердили сущ...  \n",
       "3           11      0  Создатель.Точнее всего описывает Денниса Ритчи...  \n",
       "4            4      0  Поиски лекарства от болезни Альцгеймера станов...  \n",
       "...        ...    ...                                                ...  \n",
       "4333        20     13  Мы воспринимаем окружающий мир посредством наб...  \n",
       "4334        37     47  Альфа Южной рыбы\\n\\n\\nУвидеть Фомальгаут в Мос...  \n",
       "4335        11     11  Минуточку внимания:Как-то так получается, что ...  \n",
       "4336        40     40  Статья посвящена многим неизвестному типу ради...  \n",
       "4337        38     18  Существует по меньшей мере 5 способов достигну...  \n",
       "\n",
       "[4338 rows x 12 columns]"
      ]
     },
     "execution_count": 66,
     "metadata": {},
     "output_type": "execute_result"
    }
   ],
   "source": [
    "df"
   ]
  },
  {
   "cell_type": "code",
   "execution_count": 67,
   "id": "d5c74c88-e3a4-415b-a891-1eaeabe397b5",
   "metadata": {},
   "outputs": [
    {
     "name": "stdout",
     "output_type": "stream",
     "text": [
      "<class 'pandas.core.frame.DataFrame'>\n",
      "RangeIndex: 4338 entries, 0 to 4337\n",
      "Data columns (total 12 columns):\n",
      " #   Column           Non-Null Count  Dtype \n",
      "---  ------           --------------  ----- \n",
      " 0   url              4338 non-null   object\n",
      " 1   title            4338 non-null   object\n",
      " 2   theme            4338 non-null   object\n",
      " 3   tags             4338 non-null   object\n",
      " 4   read_time        4338 non-null   int64 \n",
      " 5   number_of_views  4338 non-null   int64 \n",
      " 6   date             4338 non-null   object\n",
      " 7   amount_of_imgs   4338 non-null   int64 \n",
      " 8   comments         4338 non-null   int64 \n",
      " 9   bookmark         4338 non-null   int64 \n",
      " 10  votes            4338 non-null   int64 \n",
      " 11  text             4338 non-null   object\n",
      "dtypes: int64(6), object(6)\n",
      "memory usage: 406.8+ KB\n"
     ]
    }
   ],
   "source": [
    "df.info()"
   ]
  },
  {
   "cell_type": "code",
   "execution_count": 68,
   "id": "4c7f4238-4802-4abf-b4f4-8cbfb5a8123c",
   "metadata": {},
   "outputs": [
    {
     "data": {
      "text/html": [
       "<div>\n",
       "<style scoped>\n",
       "    .dataframe tbody tr th:only-of-type {\n",
       "        vertical-align: middle;\n",
       "    }\n",
       "\n",
       "    .dataframe tbody tr th {\n",
       "        vertical-align: top;\n",
       "    }\n",
       "\n",
       "    .dataframe thead th {\n",
       "        text-align: right;\n",
       "    }\n",
       "</style>\n",
       "<table border=\"1\" class=\"dataframe\">\n",
       "  <thead>\n",
       "    <tr style=\"text-align: right;\">\n",
       "      <th></th>\n",
       "      <th>read_time</th>\n",
       "      <th>number_of_views</th>\n",
       "      <th>amount_of_imgs</th>\n",
       "      <th>comments</th>\n",
       "      <th>bookmark</th>\n",
       "      <th>votes</th>\n",
       "    </tr>\n",
       "  </thead>\n",
       "  <tbody>\n",
       "    <tr>\n",
       "      <th>count</th>\n",
       "      <td>4338.000000</td>\n",
       "      <td>4338.000000</td>\n",
       "      <td>4338.000000</td>\n",
       "      <td>4338.000000</td>\n",
       "      <td>4338.000000</td>\n",
       "      <td>4338.000000</td>\n",
       "    </tr>\n",
       "    <tr>\n",
       "      <th>mean</th>\n",
       "      <td>9.172430</td>\n",
       "      <td>14362.485708</td>\n",
       "      <td>2.635316</td>\n",
       "      <td>41.607423</td>\n",
       "      <td>42.133472</td>\n",
       "      <td>31.970724</td>\n",
       "    </tr>\n",
       "    <tr>\n",
       "      <th>std</th>\n",
       "      <td>6.182585</td>\n",
       "      <td>20408.792136</td>\n",
       "      <td>6.774831</td>\n",
       "      <td>88.108662</td>\n",
       "      <td>54.931823</td>\n",
       "      <td>39.051863</td>\n",
       "    </tr>\n",
       "    <tr>\n",
       "      <th>min</th>\n",
       "      <td>1.000000</td>\n",
       "      <td>479.000000</td>\n",
       "      <td>0.000000</td>\n",
       "      <td>0.000000</td>\n",
       "      <td>0.000000</td>\n",
       "      <td>-102.000000</td>\n",
       "    </tr>\n",
       "    <tr>\n",
       "      <th>25%</th>\n",
       "      <td>5.000000</td>\n",
       "      <td>3900.000000</td>\n",
       "      <td>0.000000</td>\n",
       "      <td>5.000000</td>\n",
       "      <td>16.000000</td>\n",
       "      <td>9.000000</td>\n",
       "    </tr>\n",
       "    <tr>\n",
       "      <th>50%</th>\n",
       "      <td>8.000000</td>\n",
       "      <td>7600.000000</td>\n",
       "      <td>0.000000</td>\n",
       "      <td>15.000000</td>\n",
       "      <td>28.000000</td>\n",
       "      <td>20.000000</td>\n",
       "    </tr>\n",
       "    <tr>\n",
       "      <th>75%</th>\n",
       "      <td>11.000000</td>\n",
       "      <td>16000.000000</td>\n",
       "      <td>1.000000</td>\n",
       "      <td>42.000000</td>\n",
       "      <td>48.000000</td>\n",
       "      <td>42.000000</td>\n",
       "    </tr>\n",
       "    <tr>\n",
       "      <th>max</th>\n",
       "      <td>89.000000</td>\n",
       "      <td>307000.000000</td>\n",
       "      <td>114.000000</td>\n",
       "      <td>1961.000000</td>\n",
       "      <td>1139.000000</td>\n",
       "      <td>540.000000</td>\n",
       "    </tr>\n",
       "  </tbody>\n",
       "</table>\n",
       "</div>"
      ],
      "text/plain": [
       "         read_time  number_of_views  amount_of_imgs     comments     bookmark  \\\n",
       "count  4338.000000      4338.000000     4338.000000  4338.000000  4338.000000   \n",
       "mean      9.172430     14362.485708        2.635316    41.607423    42.133472   \n",
       "std       6.182585     20408.792136        6.774831    88.108662    54.931823   \n",
       "min       1.000000       479.000000        0.000000     0.000000     0.000000   \n",
       "25%       5.000000      3900.000000        0.000000     5.000000    16.000000   \n",
       "50%       8.000000      7600.000000        0.000000    15.000000    28.000000   \n",
       "75%      11.000000     16000.000000        1.000000    42.000000    48.000000   \n",
       "max      89.000000    307000.000000      114.000000  1961.000000  1139.000000   \n",
       "\n",
       "             votes  \n",
       "count  4338.000000  \n",
       "mean     31.970724  \n",
       "std      39.051863  \n",
       "min    -102.000000  \n",
       "25%       9.000000  \n",
       "50%      20.000000  \n",
       "75%      42.000000  \n",
       "max     540.000000  "
      ]
     },
     "execution_count": 68,
     "metadata": {},
     "output_type": "execute_result"
    }
   ],
   "source": [
    "df.describe()"
   ]
  },
  {
   "cell_type": "code",
   "execution_count": 70,
   "id": "ebd41f19-0443-4ea8-8249-0ef8a21c253b",
   "metadata": {},
   "outputs": [
    {
     "data": {
      "text/plain": [
       "6862"
      ]
     },
     "execution_count": 70,
     "metadata": {},
     "output_type": "execute_result"
    }
   ],
   "source": [
    "len(df['text'][0])"
   ]
  },
  {
   "cell_type": "markdown",
   "id": "98d4aa6c-5644-4af1-b188-2da62cec05e2",
   "metadata": {},
   "source": [
    "# Create graphs"
   ]
  },
  {
   "cell_type": "code",
   "execution_count": 76,
   "id": "f6706cf5-9d6c-4ba8-b168-dd8a4ea5d85e",
   "metadata": {},
   "outputs": [
    {
     "data": {
      "text/plain": [
       "Text(0, 0.5, 'Amount of articles')"
      ]
     },
     "execution_count": 76,
     "metadata": {},
     "output_type": "execute_result"
    },
    {
     "data": {
      "image/png": "[encoded data removed]",
      "text/plain": [
       "<Figure size 640x480 with 1 Axes>"
      ]
     },
     "metadata": {},
     "output_type": "display_data"
    }
   ],
   "source": [
    "x = df.groupby('read_time').count()\n",
    "\n",
    "plt.bar(x.index, x['url'])\n",
    "\n",
    "plt.title('Most common time required to read an article')\n",
    "plt.xlabel('Read time')\n",
    "plt.ylabel('Amount of articles')"
   ]
  },
  {
   "cell_type": "code",
   "execution_count": 15,
   "id": "3d52e309-3e01-4fab-8030-564af45db447",
   "metadata": {},
   "outputs": [
    {
     "data": {
      "text/plain": [
       "Text(0, 0.5, 'Amount of articles')"
      ]
     },
     "execution_count": 15,
     "metadata": {},
     "output_type": "execute_result"
    },
    {
     "data": {
      "image/png": "[encoded data removed]",
      "text/plain": [
       "<Figure size 640x480 with 1 Axes>"
      ]
     },
     "metadata": {},
     "output_type": "display_data"
    }
   ],
   "source": [
    "x = df.groupby(pd.Grouper(key='date', axis=0, freq='Y')).count()\n",
    "\n",
    "plt.bar(x.index.year, x['url'])\n",
    "\n",
    "plt.title('Number of published articles by year')\n",
    "plt.xlabel('Year')\n",
    "plt.ylabel('Amount of articles')"
   ]
  },
  {
   "cell_type": "code",
   "execution_count": 37,
   "id": "cd6da693-7182-461d-8b01-b0074224cc8a",
   "metadata": {},
   "outputs": [
    {
     "data": {
      "text/plain": [
       "Text(0.5, 1.0, 'Top 10 popular topics')"
      ]
     },
     "execution_count": 37,
     "metadata": {},
     "output_type": "execute_result"
    },
    {
     "data": {
      "image/png": "[encoded data removed]",
      "text/plain": [
       "<Figure size 640x480 with 1 Axes>"
      ]
     },
     "metadata": {},
     "output_type": "display_data"
    }
   ],
   "source": [
    "x = df.groupby('theme').count()\n",
    "x = x.sort_values(by='url', ascending = False)[:10]\n",
    "\n",
    "plt.pie(x['url'], labels=x.index, autopct='%1.1f%%')\n",
    "plt.title('Top 10 popular topics')"
   ]
  },
  {
   "cell_type": "code",
   "execution_count": 40,
   "id": "6a8b8fa9-f373-4a6b-a71a-c318fbfc72ce",
   "metadata": {},
   "outputs": [
    {
     "data": {
      "text/plain": [
       "Text(0, 0.5, 'Amount of articles')"
      ]
     },
     "execution_count": 40,
     "metadata": {},
     "output_type": "execute_result"
    },
    {
     "data": {
      "image/png": "[encoded data removed]",
      "text/plain": [
       "<Figure size 640x480 with 1 Axes>"
      ]
     },
     "metadata": {},
     "output_type": "display_data"
    }
   ],
   "source": [
    "x = df.groupby('amount_of_imgs').count()\n",
    "\n",
    "plt.bar(x.index, x['url'])\n",
    "\n",
    "plt.title('Most common amount of images')\n",
    "plt.xlabel('Amount of images')\n",
    "plt.ylabel('Amount of articles')"
   ]
  }
 ],
 "metadata": {
  "kernelspec": {
   "display_name": "Python 3 (ipykernel)",
   "language": "python",
   "name": "python3"
  },
  "language_info": {
   "codemirror_mode": {
    "name": "ipython",
    "version": 3
   },
   "file_extension": ".py",
   "mimetype": "text/x-python",
   "name": "python",
   "nbconvert_exporter": "python",
   "pygments_lexer": "ipython3",
   "version": "3.10.12"
  }
 },
 "nbformat": 4,
 "nbformat_minor": 5
}
